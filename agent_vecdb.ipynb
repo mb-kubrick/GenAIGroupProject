{
 "cells": [
  {
   "cell_type": "code",
   "execution_count": 18,
   "metadata": {},
   "outputs": [],
   "source": [
    "# Specifying all the imports\n",
    "from langchain.chat_models import ChatOpenAI\n",
    "from langchain.tools import Tool, tool\n",
    "from langchain_community.tools import DuckDuckGoSearchRun\n",
    "from langchain.prompts.prompt import PromptTemplate\n",
    "from langchain.document_loaders import TextLoader\n",
    "from langchain.text_splitter import RecursiveCharacterTextSplitter\n",
    "from langchain.embeddings import OpenAIEmbeddings\n",
    "from langchain_community.vectorstores import FAISS\n",
    "from langchain.agents import create_react_agent, AgentExecutor\n",
    "from langchain_community.utilities.sql_database import SQLDatabase\n",
    "from langchain_community.agent_toolkits import create_sql_agent\n",
    "from dotenv import load_dotenv\n",
    "from langchain.output_parsers import ResponseSchema, StructuredOutputParser, ListOutputParser\n",
    "from langchain_core.pydantic_v1 import BaseModel, Field\n",
    "from langchain_core.output_parsers import JsonOutputParser\n",
    "from langchain_core.prompts.few_shot import FewShotPromptTemplate\n",
    "import re\n",
    "import os\n",
    "\n",
    "from pymilvus import (\n",
    "    connections,\n",
    "    FieldSchema,\n",
    "    CollectionSchema,\n",
    "    DataType,\n",
    "    Collection,\n",
    "    utility,\n",
    ")\n",
    "from vector_database_rawtxt import create_milvus_db\n",
    "from sentence_transformers import SentenceTransformer"
   ]
  },
  {
   "cell_type": "code",
   "execution_count": 19,
   "metadata": {},
   "outputs": [
    {
     "name": "stderr",
     "output_type": "stream",
     "text": [
      "c:\\GenAIProject\\GenAIGroupProject\\.venv\\Lib\\site-packages\\huggingface_hub\\file_download.py:1132: FutureWarning: `resume_download` is deprecated and will be removed in version 1.0.0. Downloads always resume when possible. If you want to force a new download, use `force_download=True`.\n",
      "  warnings.warn(\n"
     ]
    },
    {
     "name": "stdout",
     "output_type": "stream",
     "text": [
      "Plain text and embeddings have been successfully loaded from data/annual_filings_model_state.pkl\n",
      "Index, plain text and embeddings have been successfully inserted into your Milvus Collection\n"
     ]
    }
   ],
   "source": [
    "vector_store = create_milvus_db()"
   ]
  },
  {
   "cell_type": "code",
   "execution_count": 20,
   "metadata": {},
   "outputs": [],
   "source": [
    "vector_store.load()"
   ]
  },
  {
   "cell_type": "code",
   "execution_count": 21,
   "metadata": {},
   "outputs": [
    {
     "ename": "ConnectionConfigException",
     "evalue": "<ConnectionConfigException: (code=1, message=Alias of 'default' already creating connections, but the configure is not the same as passed in.)>",
     "output_type": "error",
     "traceback": [
      "\u001b[1;31m---------------------------------------------------------------------------\u001b[0m",
      "\u001b[1;31mConnectionConfigException\u001b[0m                 Traceback (most recent call last)",
      "Cell \u001b[1;32mIn[21], line 1\u001b[0m\n\u001b[1;32m----> 1\u001b[0m \u001b[43mconnections\u001b[49m\u001b[38;5;241;43m.\u001b[39;49m\u001b[43mconnect\u001b[49m\u001b[43m(\u001b[49m\u001b[43mhost\u001b[49m\u001b[38;5;241;43m=\u001b[39;49m\u001b[38;5;124;43m\"\u001b[39;49m\u001b[38;5;124;43mlocalhost\u001b[39;49m\u001b[38;5;124;43m\"\u001b[39;49m\u001b[43m,\u001b[49m\u001b[43m \u001b[49m\u001b[43mport\u001b[49m\u001b[38;5;241;43m=\u001b[39;49m\u001b[38;5;124;43m\"\u001b[39;49m\u001b[38;5;124;43m19530\u001b[39;49m\u001b[38;5;124;43m\"\u001b[39;49m\u001b[43m)\u001b[49m\n",
      "File \u001b[1;32mc:\\GenAIProject\\GenAIGroupProject\\.venv\\Lib\\site-packages\\pymilvus\\orm\\connections.py:407\u001b[0m, in \u001b[0;36mConnections.connect\u001b[1;34m(self, alias, user, password, db_name, token, **kwargs)\u001b[0m\n\u001b[0;32m    404\u001b[0m kwargs[\u001b[38;5;124m\"\u001b[39m\u001b[38;5;124maddress\u001b[39m\u001b[38;5;124m\"\u001b[39m] \u001b[38;5;241m=\u001b[39m addr\n\u001b[0;32m    406\u001b[0m \u001b[38;5;28;01mif\u001b[39;00m \u001b[38;5;28mself\u001b[39m\u001b[38;5;241m.\u001b[39mhas_connection(alias) \u001b[38;5;129;01mand\u001b[39;00m \u001b[38;5;28mself\u001b[39m\u001b[38;5;241m.\u001b[39m_alias[alias]\u001b[38;5;241m.\u001b[39mget(\u001b[38;5;124m\"\u001b[39m\u001b[38;5;124maddress\u001b[39m\u001b[38;5;124m\"\u001b[39m) \u001b[38;5;241m!=\u001b[39m addr:\n\u001b[1;32m--> 407\u001b[0m     \u001b[38;5;28;01mraise\u001b[39;00m ConnectionConfigException(message\u001b[38;5;241m=\u001b[39mExceptionsMessage\u001b[38;5;241m.\u001b[39mConnDiffConf \u001b[38;5;241m%\u001b[39m alias)\n\u001b[0;32m    409\u001b[0m \u001b[38;5;66;03m# uri might take extra info\u001b[39;00m\n\u001b[0;32m    410\u001b[0m \u001b[38;5;28;01mif\u001b[39;00m parsed_uri \u001b[38;5;129;01mis\u001b[39;00m \u001b[38;5;129;01mnot\u001b[39;00m \u001b[38;5;28;01mNone\u001b[39;00m:\n\u001b[0;32m    411\u001b[0m     \u001b[38;5;66;03m# get db_name from uri\u001b[39;00m\n",
      "\u001b[1;31mConnectionConfigException\u001b[0m: <ConnectionConfigException: (code=1, message=Alias of 'default' already creating connections, but the configure is not the same as passed in.)>"
     ]
    }
   ],
   "source": [
    "connections.connect(host=\"localhost\", port=\"19530\")"
   ]
  },
  {
   "cell_type": "code",
   "execution_count": 22,
   "metadata": {},
   "outputs": [],
   "source": [
    "model = SentenceTransformer(\"all-MiniLM-L6-v2\")"
   ]
  },
  {
   "cell_type": "code",
   "execution_count": 23,
   "metadata": {},
   "outputs": [],
   "source": [
    "query_qn = \"How many iphones were sold in 2021\"\n",
    "embedded_query_qn = model.encode(query_qn)"
   ]
  },
  {
   "cell_type": "code",
   "execution_count": 24,
   "metadata": {},
   "outputs": [
    {
     "name": "stdout",
     "output_type": "stream",
     "text": [
      "['id: 6744, distance: 0.6662631034851074, entity: {}', 'id: 6546, distance: 0.7552067041397095, entity: {}', 'id: 6787, distance: 0.7963279485702515, entity: {}', 'id: 6820, distance: 0.8623805642127991, entity: {}', 'id: 6653, distance: 0.880287230014801, entity: {}']\n",
      "id: 6744, distance: 0.6662631034851074, entity: {}\n",
      "6744\n"
     ]
    }
   ],
   "source": [
    "search_params = {\n",
    "    \"metric_type\": \"L2\"\n",
    "}\n",
    "\n",
    "result = vector_store.search(\n",
    "    [embedded_query_qn.tolist()], # a single query must still be enclosed in a list\n",
    "    \"embedding\",\n",
    "    search_params,\n",
    "    limit=5\n",
    ")\n",
    "\n",
    "for hit in result:\n",
    "    print(hit)\n",
    "    print(hit[0])\n",
    "    print(hit[0].id)"
   ]
  },
  {
   "cell_type": "code",
   "execution_count": 25,
   "metadata": {},
   "outputs": [
    {
     "name": "stdout",
     "output_type": "stream",
     "text": [
      "[{'pk': 6744, 'plain_text': 'category iPhone 191973 39 137781 3 142381 Mac 35190 23 28622 11 25740 iPad 31862 34 23724 11 21280 Wearables Home and Accessories 38367 25 30620 25 24482 Services 68425 27 53768 16 46291 Total net sales 365817 33 274515 6 260174 1 Products net sales include amortization of the deferred value of unspecified software upgrade rights which are bundled in the sales price of the respective product 2 Wearables Home and Accessories net sales include sales of AirPods Apple TV Apple Watch Beats products HomePod iPod touch and accessories 3 Services net sales include sales from the Companys advertising AppleCare cloud digital content payment and other services Services net sales also include amortization of the deferred value of services bundled in the sales price of certain products iPhone iPhone net sales increased during 2021 compared to 2020 due primarily to higher net sales from the Companys new iPhone models launched in the first quarter and fourth quarter of 2021 and a favorable mix of', 'embedding': [-0.06728233, -0.092163935, 0.04787752, -0.039307773, 0.019780824, 0.06657909, 0.012856522, 0.020835267, 0.017616043, 0.018568974, 0.075725935, 0.033424813, 0.025746599, -0.017526563, 0.070755854, -0.04813129, 0.052598163, -0.07067266, -0.07139797, -0.009615911, 0.050134085, 0.06436613, 0.008036429, 0.04388654, 0.05663757, 0.032957215, -0.101098925, -0.061987173, -0.0707198, -0.008989386, -0.0072939205, 0.053331256, 0.03542428, 0.080046326, -0.0049085906, -0.15163843, -0.029077368, 0.010319355, 0.004156001, -0.02065234, -0.029792583, -0.08916831, -0.049034074, 0.10490088, 0.05302752, 0.004145919, -0.073868036, 0.022767736, -0.02261673, 0.092046395, -0.0025114792, 0.0462325, -0.009588796, 0.076735824, -0.00086234545, 0.00901722, -0.0603883, 0.0196988, 0.06424443, 0.040492084, 0.085517466, -0.06651678, 0.0008964074, 0.00067775947, 0.024973547, -0.029275103, -0.0526222, -0.041493062, -0.015178983, 0.005326344, -0.016299125, -0.018979205, 0.05208668, 0.039057307, 0.009198275, 0.011416241, 0.0824994, -0.03225903, -0.030279275, -0.03990261, -0.03076075, 0.0058837314, 0.028263625, -0.003950838, -0.011791115, -0.0072706114, -0.03794852, 0.014488946, -0.02415003, -0.078712985, -0.030120024, 0.06269448, -0.039854743, -0.023831492, -0.044427145, -0.021104915, -0.023918135, -0.035516646, 0.01927802, 0.038662907, 0.04243348, 0.019197723, 0.012608822, -0.011114426, -0.011620717, -0.09255337, -0.0028327703, 0.007745526, -0.001014839, 0.103809685, -0.060966775, -0.03832284, -0.039453793, -0.05567536, 0.004106405, 0.030232724, -0.018015904, 0.102998525, 0.1653568, -0.026395483, 0.00043147747, 0.06505138, 0.042670403, -0.058844034, -0.12662348, -0.0052227653, -0.059931714, 1.7896032e-32, -0.093998685, -0.011063977, -0.012987512, -0.03454946, -0.040655393, -0.040674157, 0.06033763, 0.10124192, 0.06649523, 0.060995474, -0.09890731, 0.02429744, -0.033615097, 0.030842513, 0.10644119, -0.032199036, -0.044957165, -0.007524826, 0.051680308, 0.00093930983, -0.0065018553, -0.09052112, -0.025318673, 0.06369588, 0.004710104, -0.050396822, 0.032904163, -0.012002871, 0.046298508, 0.0035465728, 0.0339587, 0.0028345366, 0.055737082, -0.11735335, -0.0713248, -0.03130313, 0.016439661, -0.026328675, 0.06639045, -0.018927364, -0.06610858, -0.0031370807, -0.06358668, -0.053414367, -0.00029639836, 0.027642464, 0.014948403, 0.009350094, 0.007140363, 0.034316566, -0.058388714, -0.018494606, -0.06677356, -0.05029534, -0.042830743, -0.036027644, -0.00518845, -0.083491094, 0.00021282487, 0.04145653, -0.02746301, -0.052664082, -0.0047673774, -0.06877574, -0.05041924, 0.05087435, 0.056135885, -0.0738461, -0.040048413, 0.1198575, -0.025165549, 0.025415812, 0.0034581362, -0.05184885, 0.053446647, 0.0038837644, -0.016618097, -0.027434692, -0.016650865, -0.041406605, -0.05220413, 0.059367742, 0.07983711, 0.04786519, 0.019454438, -0.039346956, -0.0061420775, -0.05143792, 0.008795821, 0.02357442, -0.04262484, -0.026307978, -0.06172433, 0.0198987, -0.017132316, -1.7315321e-32, -0.030243125, 0.04492625, -0.071337126, 0.0093513355, 0.009856034, -0.04636083, -0.01789408, 0.07324036, 0.042401765, -0.027370824, 0.027289117, 0.02042481, -0.01551084, 0.0919222, -0.0629771, -0.00033200684, -0.10029659, -0.10870111, 0.03950514, 0.037285622, -0.024631672, 0.09848929, 0.081344105, 0.012483678, -0.04825502, 0.011393877, -0.04747082, 0.045311607, 0.080576405, -0.027354052, -0.007413456, -0.14554109, -0.017983496, 0.07025332, 0.06179686, -0.019409882, 0.041574124, -0.020798557, -0.0037770823, -0.028337179, 0.087773375, -0.049839586, 0.022063736, 0.01630661, 0.03681827, -0.079171896, -0.017690005, 0.024307085, 0.04466343, -0.030632999, 0.018590199, 0.09119588, -0.07571022, 0.05162854, -0.110753074, 0.0657848, 0.07730391, -0.00060322863, -0.020380916, -0.020543857, 0.051137123, 0.006594036, -0.013750346, -0.016334135, 0.06115558, -0.024774104, -0.028329365, -0.011669149, 0.014053627, 0.013585753, -0.026661156, -0.047261886, -0.0543954, -0.09152684, -0.07014178, -0.042109396, 0.0015790602, -0.014552377, -0.01943879, -0.03306668, 0.028385432, 0.09604117, 0.041777615, 0.010954304, -0.025663795, -0.021377595, 0.056688227, -0.00047937158, -0.043539003, 0.09236955, -0.07996136, -0.0190636, -0.07593542, 0.0760952, -0.050655726, -6.306146e-08, 0.05992917, 0.076441444, 0.03026655, 0.009884563, 0.033486165, -0.006395525, 0.017173294, 0.07056742, 0.104780994, -0.007612699, 0.006698596, -0.028150063, -0.09346743, 0.0698346, -0.001329339, 0.053968363, -0.09493024, 0.02325191, 0.022572555, -0.030041508, 0.0280883, 0.022445515, -0.03385349, -0.007191919, -0.019197538, 0.0010335867, 0.020912044, 0.078763925, 0.019705577, 0.03004621, 0.019092197, -0.0040458385, 0.04696517, -0.06450903, 0.005202736, -0.04833216, -0.06276831, -0.043639958, -0.002523348, 0.025389416, -0.020189172, -0.0956599, -0.061364774, 0.05666302, 0.07543953, -0.1384394, -0.03922791, -0.09399548, 0.060762506, -0.053485464, -0.06540531, -0.027195038, 0.02679613, -0.060663007, 0.012141984, -0.018774435, 0.0014037834, -0.031335037, 0.014966139, 0.09371228, 0.075018324, -0.08601998, 0.04031302, 0.03895197]}]\n"
     ]
    }
   ],
   "source": [
    "search_result = vector_store.query(expr=f\"pk == {6744}\", output_fields=[\"*\"])\n",
    "\n",
    "# Print the search result\n",
    "print(search_result)"
   ]
  },
  {
   "cell_type": "code",
   "execution_count": 26,
   "metadata": {},
   "outputs": [
    {
     "name": "stdout",
     "output_type": "stream",
     "text": [
      "Query: How many iphones were sold in 2021\n",
      "Response: category iPhone 191973 39 137781 3 142381 Mac 35190 23 28622 11 25740 iPad 31862 34 23724 11 21280 Wearables Home and Accessories 38367 25 30620 25 24482 Services 68425 27 53768 16 46291 Total net sales 365817 33 274515 6 260174 1 Products net sales include amortization of the deferred value of unspecified software upgrade rights which are bundled in the sales price of the respective product 2 Wearables Home and Accessories net sales include sales of AirPods Apple TV Apple Watch Beats products HomePod iPod touch and accessories 3 Services net sales include sales from the Companys advertising AppleCare cloud digital content payment and other services Services net sales also include amortization of the deferred value of services bundled in the sales price of certain products iPhone iPhone net sales increased during 2021 compared to 2020 due primarily to higher net sales from the Companys new iPhone models launched in the first quarter and fourth quarter of 2021 and a favorable mix of\n"
     ]
    }
   ],
   "source": [
    "print(f\"Query: {query_qn}\")\n",
    "print(f\"Response: {search_result[0][\"plain_text\"]}\")"
   ]
  },
  {
   "cell_type": "code",
   "execution_count": 46,
   "metadata": {},
   "outputs": [],
   "source": [
    "load_dotenv()\n",
    "\n",
    "def get_numbers(query: str):\n",
    "    llm = ChatOpenAI(api_key=os.getenv('OPENAI_API_KEY'), model='gpt-3.5-turbo', temperature=0.2)\n",
    "    template = \"\"\"\n",
    "    You are smart agent that can idenify all the client ids to solve the query. \n",
    "    If no start point for a client is mentioned, assume client 1 is the first client.\n",
    "    id. From the query, return all the ids that the query refers to as a list of integers.\n",
    "    {format_instructions}\n",
    "    {query}\n",
    "    \"\"\"\n",
    "\n",
    "    class Numbers(BaseModel):\n",
    "        numbers: str = Field(description=\"should say 'the numbers extracted from the query'\")\n",
    "        relevant_numbers: list = Field(description=\"should be a list of all the relevant numbers the llm has picked up\")\n",
    "\n",
    "    parser = JsonOutputParser(pydantic_object=Numbers)\n",
    "\n",
    "    prompt = PromptTemplate(\n",
    "        input_variables = ['query'],\n",
    "        template=template,\n",
    "        partial_variables={\"format_instructions\": parser.get_format_instructions()},\n",
    "    )\n",
    "\n",
    "    chain = prompt | llm | parser\n",
    "    ans = chain.invoke(query)\n",
    "    return ans['relevant_numbers']\n",
    "        \n",
    "\n",
    "@tool\n",
    "def search_tool(query : str):\n",
    "    \"\"\" \n",
    "    Takes a user query and performs an online search to provide\n",
    "    an answer to that query.\n",
    "    \"\"\"\n",
    "    search = DuckDuckGoSearchRun()\n",
    "    answer = search.run(query)\n",
    "    return answer\n",
    "\n",
    "@tool\n",
    "def create_embeddings(query : str):\n",
    "    \"\"\"\n",
    "    Uses the content from the file path to create embeddings on the inputted data. Using the query\n",
    "    provided, perform a similarity search on the query and return the output. If you can not provide a response,\n",
    "    say I don't know rather than providing an incorrect response.\n",
    "    \"\"\"\n",
    "    from vector_database_rawtxt import create_milvus_db\n",
    "    vector_store = create_milvus_db()\n",
    "    vector_store.load()\n",
    "\n",
    "    model = SentenceTransformer(\"all-MiniLM-L6-v2\")\n",
    "    embedded_query_qn = model.encode(query)\n",
    "\n",
    "    search_params = {\n",
    "    \"metric_type\": \"L2\"\n",
    "    }\n",
    "\n",
    "    result = vector_store.search(\n",
    "        [embedded_query_qn.tolist()], # a single query must still be enclosed in a list\n",
    "        \"embedding\",\n",
    "        search_params,\n",
    "        limit=5\n",
    "    )\n",
    "\n",
    "    chunk_list = []\n",
    "    res = []\n",
    "    for hit in result:\n",
    "        for id in hit:\n",
    "            chunk_list.append(id.id)\n",
    "\n",
    "    for id in chunk_list:\n",
    "        search_result = vector_store.query(expr=f\"pk == {id}\", output_fields=[\"*\"])\n",
    "        res.append(search_result[0][\"plain_text\"])\n",
    "    return res\n",
    "\n",
    "\n",
    "@tool\n",
    "def query_database(query : str):\n",
    "    \"\"\"\n",
    "    This function queries the SQL database based on the query that the user inputs.\n",
    "    This will provide insight into the current client(s) stock portfolio from the portfolio table in the database.\n",
    "    \"\"\"\n",
    "\n",
    "    llm = ChatOpenAI(api_key=os.getenv('OPENAI_API_KEY'), model='gpt-3.5-turbo', temperature=0)\n",
    "    db = SQLDatabase.from_uri('sqlite:///portfolio_allocations.db')\n",
    "    agent_executor = create_sql_agent(llm, db=db, agent_type=\"openai-tools\", verbose=True)\n",
    "    result = agent_executor.invoke(query)\n",
    "    \n",
    "\n",
    "    client = get_numbers(query)\n",
    "    for i in client:\n",
    "        response_schemas = [\n",
    "        ResponseSchema(name=f'Client {i}', description=f\"A dictionary containing the stock tickers and their percentage allocations for each client {i}.\")\n",
    "        ]\n",
    "      \n",
    "    output_parser = StructuredOutputParser.from_response_schemas(response_schemas)\n",
    "\n",
    "    format_instructions = output_parser.get_format_instructions()\n",
    "    \n",
    "    prompt = PromptTemplate(\n",
    "    template=\"create a new key, value pair for every client mentioned in the question.\\n{format_instructions}\\n{question}\",\n",
    "    input_variables=[\"question\"],\n",
    "    partial_variables={\"format_instructions\": format_instructions},\n",
    "    )\n",
    "\n",
    "    chain = prompt | llm | output_parser\n",
    "\n",
    "    ans = chain.invoke({\"question\": result})\n",
    "\n",
    "    return ans\n",
    "\n",
    "\n",
    "    \n",
    "    \n",
    "\n",
    "\n",
    "@tool\n",
    "def portfolio_allocation(query : str):\n",
    "    \"\"\"\n",
    "    Based on the allocation stratergy provided as a query, context on the comapany's recent financials from their 10-k reports\n",
    "    and their up-to-date status from an online search, change the allocation in the\n",
    "    client stock portfolios in the SQL database.\n",
    "    \"\"\"\n",
    " \n",
    "    template = \"\"\"\n",
    "    You are a helpful assistant who is going to allocate different weights based on context and the invest stratergy that user wants.\n",
    "    In order to retreieve the context, use the search_tool and the create_embedding tool to search 'Tell me about the fininical siutuation of\n",
    "    AAPL, MSFT, NVIDIA'. Combining this with the allocation stratergy that the user picks, redistribute the allocation percentages. Give exact figures \n",
    "    as to how this is to be used for each stock. You should also give a detailed explanation as to why you came up with these figures. Use the context\n",
    "    to provide statistics in order to boost your reasoning. Make sure the reasoning is also returned in the final answwer.\n",
    "\n",
    "    Query : {query}\n",
    "    {answer}\n",
    "    \"\"\"\n",
    "   \n",
    "    examples = [\n",
    "    {\n",
    "        'query': 'Reallocte the portfolio for client 1 with a balanced strategy',\n",
    "        'answer': 'The stock allocations for client_id 1 equal across all stocks, totalling 100.'\n",
    "    },\n",
    "\n",
    "    {\n",
    "        'query': 'Reallocte the portfolio for client 1 with a risk-based strategy',\n",
    "        'answer': \"\"\"\n",
    "                        Allocating more to stocks with lower perceived risk. \n",
    "                        From my 10k data and online search, Company 1 has strong financials\n",
    "                        and minimal risk but Comapany 2 has more risk. As a result, the stock\n",
    "                        allocation fror client_id 1 would have a higher percentage for Company 1\n",
    "                        and a lower percentage for Company 2. Company 3 would make up the rest of the portfolio.\n",
    "                        \"\"\"\n",
    "    },\n",
    "\n",
    "    {\n",
    "        'query': 'Reallocte the portfolio for client 1 with a return-based strategy',\n",
    "        'answer' : \"\"\"\n",
    "                        Allocating more to stocks with higher expected returns.\n",
    "                        From my 10k data and online search, Company 3 has higher expected growth rates and returns\n",
    "                        whereas Company 2 has a declining industry position and poor management quality. As a result, the stock\n",
    "                        allocation fror client_id 1 would have a high percentage for Company 3\n",
    "                        and a low percentage for Company 2 and Company 1 would make up the rest of the portfolio.\n",
    "                        \"\"\"\n",
    "    }\n",
    "    ]\n",
    "    c1 = create_embeddings(\"what is the current financial outlook of AAPL, MSFT, NVIDIA\")\n",
    "    c2 = search_tool(\"what is the current financial outlook of AAPL, MSFT, NVIDIA\")\n",
    "\n",
    "    context = c1 + c2\n",
    "\n",
    "    example_prompt = PromptTemplate(\n",
    "    input_variables=[\"question\", \"answer\"], template=template\n",
    "    )\n",
    "\n",
    "    prompt = FewShotPromptTemplate(\n",
    "    examples=examples,\n",
    "    example_prompt=example_prompt,\n",
    "    suffix=\"Query: {input}, Context: {context}\",\n",
    "    input_variables=[\"input\", \"context\"],\n",
    "    )\n",
    "\n",
    "    llm = ChatOpenAI(api_key=os.getenv('OPENAI_API_KEY'), model='gpt-3.5-turbo', temperature=0.2)\n",
    "\n",
    "    chain = prompt | llm\n",
    "\n",
    "    #print(f\"context: {context}\")\n",
    "    ans = chain.invoke({'input' : query, 'context':context})\n",
    "    \n",
    "    query_database(f\"set the stock allocations for the client and percentages from {ans.content} provide the sql query to do so and execute it on the database\")\n",
    "    \n",
    "    return ans.content\n",
    "\n",
    "    \n",
    "tools = [Tool(name=\"search_tool\", func=search_tool, description=\"Tool for performing online search operations\"),\n",
    "         Tool(name=\"create_embeddings\", func=create_embeddings, description=\"Uses the content from the file path to create embeddings on the inputted data. Using the query provided, perform a similarity search on the query and return the output. If you can not provide a response,say I don't know rather than providing an incorrect response.\"),\n",
    "         Tool(name='query_database', func=query_database, description= \"This function queries the SQL database based on the query that the user provides to provide insight into the current client stock portfolio\"),\n",
    "         Tool(name='portfolio_allocation', func=portfolio_allocation, description='This function uses context from the vector database and online searches as well as the investment stratergy the user specifies to determine the stock allocation splits')]"
   ]
  },
  {
   "cell_type": "code",
   "execution_count": 28,
   "metadata": {},
   "outputs": [
    {
     "name": "stderr",
     "output_type": "stream",
     "text": [
      "c:\\GenAIProject\\GenAIGroupProject\\.venv\\Lib\\site-packages\\langchain_core\\_api\\deprecation.py:119: LangChainDeprecationWarning: The class `ChatOpenAI` was deprecated in LangChain 0.0.10 and will be removed in 0.3.0. An updated version of the class exists in the langchain-openai package and should be used instead. To use it run `pip install -U langchain-openai` and import as `from langchain_openai import ChatOpenAI`.\n",
      "  warn_deprecated(\n"
     ]
    },
    {
     "name": "stdout",
     "output_type": "stream",
     "text": [
      "\n",
      "\n",
      "\u001b[1m> Entering new AgentExecutor chain...\u001b[0m\n",
      "\u001b[32;1m\u001b[1;3mI should use the search_tool to find the current Apple stock price.\n",
      "\n",
      "Action: search_tool\n",
      "\n",
      "Action Input: \"Apple stock price today\"\n",
      "\u001b[0m\u001b[36;1m\u001b[1;3mDiscover real-time Apple Inc. Common Stock (AAPL) stock prices, quotes, historical data, news, and Insights for informed trading and investment decisions. Stay ahead with Nasdaq. Investor Relations > Stock Price Apple Footer. Shop and Learn Shop and Learn. Mac; iPad; iPhone; Watch; TV; Music; iTunes; HomePod; iPod touch; Apple Card; Accessories; Gift Cards; Apple Store Apple Store. Find a Store; Genius Bar; Today at Apple; Apple Camp; Field Trip; Apple Store App; ... Visit an Apple Store, call 1-800-MY-APPLE, or find a ... Stock analysis for Apple Inc (AAPL:NASDAQ GS) including stock price, stock chart, company news, key statistics, fundamentals and company profile. View Apple Inc. AAPL stock quote prices, financial information, real-time forecasts, and company news from CNN. Apple (AAPL) shares are trading higher after Bank of America reiterated it as a top pick, maintaining its Buy rating and price target of $230. Yahoo Finance's Dan Howley breaks down what to expect fro... Buy Apple Stock, Analyst Says. AI-Powered iPhones Will Be a 'Once In a Decade' Event.\u001b[0m\u001b[32;1m\u001b[1;3mI found the current Apple stock price, but I should also check the financial situation of Apple using the portfolio_allocation tool.\n",
      "\n",
      "Action: portfolio_allocation\n",
      "\n",
      "Action Input: \"Tell me about the company's financial situation\"\n",
      "\u001b[0m"
     ]
    },
    {
     "name": "stderr",
     "output_type": "stream",
     "text": [
      "c:\\GenAIProject\\GenAIGroupProject\\.venv\\Lib\\site-packages\\langchain_core\\_api\\deprecation.py:119: LangChainDeprecationWarning: The method `BaseTool.__call__` was deprecated in langchain-core 0.1.47 and will be removed in 0.3.0. Use invoke instead.\n",
      "  warn_deprecated(\n"
     ]
    },
    {
     "ename": "AttributeError",
     "evalue": "'function' object has no attribute 'load'",
     "output_type": "error",
     "traceback": [
      "\u001b[1;31m---------------------------------------------------------------------------\u001b[0m",
      "\u001b[1;31mAttributeError\u001b[0m                            Traceback (most recent call last)",
      "Cell \u001b[1;32mIn[28], line 83\u001b[0m\n\u001b[0;32m     80\u001b[0m agent_executor \u001b[38;5;241m=\u001b[39m AgentExecutor(agent\u001b[38;5;241m=\u001b[39magent, tools\u001b[38;5;241m=\u001b[39mtools, verbose\u001b[38;5;241m=\u001b[39m\u001b[38;5;28;01mTrue\u001b[39;00m, handle_parsing_errors\u001b[38;5;241m=\u001b[39m\u001b[38;5;28;01mTrue\u001b[39;00m)\n\u001b[0;32m     82\u001b[0m \u001b[38;5;66;03m# Execute the agent with the given input\u001b[39;00m\n\u001b[1;32m---> 83\u001b[0m response \u001b[38;5;241m=\u001b[39m \u001b[43magent_executor\u001b[49m\u001b[38;5;241;43m.\u001b[39;49m\u001b[43minvoke\u001b[49m\u001b[43m(\u001b[49m\u001b[43m{\u001b[49m\u001b[38;5;124;43m'\u001b[39;49m\u001b[38;5;124;43minput\u001b[39;49m\u001b[38;5;124;43m'\u001b[39;49m\u001b[43m:\u001b[49m\u001b[43m \u001b[49m\u001b[43mquery\u001b[49m\u001b[43m,\u001b[49m\u001b[43m \u001b[49m\u001b[38;5;124;43m'\u001b[39;49m\u001b[38;5;124;43mtools\u001b[39;49m\u001b[38;5;124;43m'\u001b[39;49m\u001b[43m \u001b[49m\u001b[43m:\u001b[49m\u001b[43m \u001b[49m\u001b[43mtools\u001b[49m\u001b[43m,\u001b[49m\u001b[43m \u001b[49m\u001b[38;5;124;43m'\u001b[39;49m\u001b[38;5;124;43mtool_names\u001b[39;49m\u001b[38;5;124;43m'\u001b[39;49m\u001b[43m \u001b[49m\u001b[43m:\u001b[49m\u001b[43m \u001b[49m\u001b[43m[\u001b[49m\u001b[43mtool\u001b[49m\u001b[38;5;241;43m.\u001b[39;49m\u001b[43mname\u001b[49m\u001b[43m \u001b[49m\u001b[38;5;28;43;01mfor\u001b[39;49;00m\u001b[43m \u001b[49m\u001b[43mtool\u001b[49m\u001b[43m \u001b[49m\u001b[38;5;129;43;01min\u001b[39;49;00m\u001b[43m \u001b[49m\u001b[43mtools\u001b[49m\u001b[43m]\u001b[49m\u001b[43m}\u001b[49m\u001b[43m)\u001b[49m\n\u001b[0;32m     85\u001b[0m \u001b[38;5;28mprint\u001b[39m(response[\u001b[38;5;124m'\u001b[39m\u001b[38;5;124moutput\u001b[39m\u001b[38;5;124m'\u001b[39m])\n",
      "File \u001b[1;32mc:\\GenAIProject\\GenAIGroupProject\\.venv\\Lib\\site-packages\\langchain\\chains\\base.py:166\u001b[0m, in \u001b[0;36mChain.invoke\u001b[1;34m(self, input, config, **kwargs)\u001b[0m\n\u001b[0;32m    164\u001b[0m \u001b[38;5;28;01mexcept\u001b[39;00m \u001b[38;5;167;01mBaseException\u001b[39;00m \u001b[38;5;28;01mas\u001b[39;00m e:\n\u001b[0;32m    165\u001b[0m     run_manager\u001b[38;5;241m.\u001b[39mon_chain_error(e)\n\u001b[1;32m--> 166\u001b[0m     \u001b[38;5;28;01mraise\u001b[39;00m e\n\u001b[0;32m    167\u001b[0m run_manager\u001b[38;5;241m.\u001b[39mon_chain_end(outputs)\n\u001b[0;32m    169\u001b[0m \u001b[38;5;28;01mif\u001b[39;00m include_run_info:\n",
      "File \u001b[1;32mc:\\GenAIProject\\GenAIGroupProject\\.venv\\Lib\\site-packages\\langchain\\chains\\base.py:156\u001b[0m, in \u001b[0;36mChain.invoke\u001b[1;34m(self, input, config, **kwargs)\u001b[0m\n\u001b[0;32m    153\u001b[0m \u001b[38;5;28;01mtry\u001b[39;00m:\n\u001b[0;32m    154\u001b[0m     \u001b[38;5;28mself\u001b[39m\u001b[38;5;241m.\u001b[39m_validate_inputs(inputs)\n\u001b[0;32m    155\u001b[0m     outputs \u001b[38;5;241m=\u001b[39m (\n\u001b[1;32m--> 156\u001b[0m         \u001b[38;5;28;43mself\u001b[39;49m\u001b[38;5;241;43m.\u001b[39;49m\u001b[43m_call\u001b[49m\u001b[43m(\u001b[49m\u001b[43minputs\u001b[49m\u001b[43m,\u001b[49m\u001b[43m \u001b[49m\u001b[43mrun_manager\u001b[49m\u001b[38;5;241;43m=\u001b[39;49m\u001b[43mrun_manager\u001b[49m\u001b[43m)\u001b[49m\n\u001b[0;32m    157\u001b[0m         \u001b[38;5;28;01mif\u001b[39;00m new_arg_supported\n\u001b[0;32m    158\u001b[0m         \u001b[38;5;28;01melse\u001b[39;00m \u001b[38;5;28mself\u001b[39m\u001b[38;5;241m.\u001b[39m_call(inputs)\n\u001b[0;32m    159\u001b[0m     )\n\u001b[0;32m    161\u001b[0m     final_outputs: Dict[\u001b[38;5;28mstr\u001b[39m, Any] \u001b[38;5;241m=\u001b[39m \u001b[38;5;28mself\u001b[39m\u001b[38;5;241m.\u001b[39mprep_outputs(\n\u001b[0;32m    162\u001b[0m         inputs, outputs, return_only_outputs\n\u001b[0;32m    163\u001b[0m     )\n\u001b[0;32m    164\u001b[0m \u001b[38;5;28;01mexcept\u001b[39;00m \u001b[38;5;167;01mBaseException\u001b[39;00m \u001b[38;5;28;01mas\u001b[39;00m e:\n",
      "File \u001b[1;32mc:\\GenAIProject\\GenAIGroupProject\\.venv\\Lib\\site-packages\\langchain\\agents\\agent.py:1433\u001b[0m, in \u001b[0;36mAgentExecutor._call\u001b[1;34m(self, inputs, run_manager)\u001b[0m\n\u001b[0;32m   1431\u001b[0m \u001b[38;5;66;03m# We now enter the agent loop (until it returns something).\u001b[39;00m\n\u001b[0;32m   1432\u001b[0m \u001b[38;5;28;01mwhile\u001b[39;00m \u001b[38;5;28mself\u001b[39m\u001b[38;5;241m.\u001b[39m_should_continue(iterations, time_elapsed):\n\u001b[1;32m-> 1433\u001b[0m     next_step_output \u001b[38;5;241m=\u001b[39m \u001b[38;5;28;43mself\u001b[39;49m\u001b[38;5;241;43m.\u001b[39;49m\u001b[43m_take_next_step\u001b[49m\u001b[43m(\u001b[49m\n\u001b[0;32m   1434\u001b[0m \u001b[43m        \u001b[49m\u001b[43mname_to_tool_map\u001b[49m\u001b[43m,\u001b[49m\n\u001b[0;32m   1435\u001b[0m \u001b[43m        \u001b[49m\u001b[43mcolor_mapping\u001b[49m\u001b[43m,\u001b[49m\n\u001b[0;32m   1436\u001b[0m \u001b[43m        \u001b[49m\u001b[43minputs\u001b[49m\u001b[43m,\u001b[49m\n\u001b[0;32m   1437\u001b[0m \u001b[43m        \u001b[49m\u001b[43mintermediate_steps\u001b[49m\u001b[43m,\u001b[49m\n\u001b[0;32m   1438\u001b[0m \u001b[43m        \u001b[49m\u001b[43mrun_manager\u001b[49m\u001b[38;5;241;43m=\u001b[39;49m\u001b[43mrun_manager\u001b[49m\u001b[43m,\u001b[49m\n\u001b[0;32m   1439\u001b[0m \u001b[43m    \u001b[49m\u001b[43m)\u001b[49m\n\u001b[0;32m   1440\u001b[0m     \u001b[38;5;28;01mif\u001b[39;00m \u001b[38;5;28misinstance\u001b[39m(next_step_output, AgentFinish):\n\u001b[0;32m   1441\u001b[0m         \u001b[38;5;28;01mreturn\u001b[39;00m \u001b[38;5;28mself\u001b[39m\u001b[38;5;241m.\u001b[39m_return(\n\u001b[0;32m   1442\u001b[0m             next_step_output, intermediate_steps, run_manager\u001b[38;5;241m=\u001b[39mrun_manager\n\u001b[0;32m   1443\u001b[0m         )\n",
      "File \u001b[1;32mc:\\GenAIProject\\GenAIGroupProject\\.venv\\Lib\\site-packages\\langchain\\agents\\agent.py:1139\u001b[0m, in \u001b[0;36mAgentExecutor._take_next_step\u001b[1;34m(self, name_to_tool_map, color_mapping, inputs, intermediate_steps, run_manager)\u001b[0m\n\u001b[0;32m   1130\u001b[0m \u001b[38;5;28;01mdef\u001b[39;00m \u001b[38;5;21m_take_next_step\u001b[39m(\n\u001b[0;32m   1131\u001b[0m     \u001b[38;5;28mself\u001b[39m,\n\u001b[0;32m   1132\u001b[0m     name_to_tool_map: Dict[\u001b[38;5;28mstr\u001b[39m, BaseTool],\n\u001b[1;32m   (...)\u001b[0m\n\u001b[0;32m   1136\u001b[0m     run_manager: Optional[CallbackManagerForChainRun] \u001b[38;5;241m=\u001b[39m \u001b[38;5;28;01mNone\u001b[39;00m,\n\u001b[0;32m   1137\u001b[0m ) \u001b[38;5;241m-\u001b[39m\u001b[38;5;241m>\u001b[39m Union[AgentFinish, List[Tuple[AgentAction, \u001b[38;5;28mstr\u001b[39m]]]:\n\u001b[0;32m   1138\u001b[0m     \u001b[38;5;28;01mreturn\u001b[39;00m \u001b[38;5;28mself\u001b[39m\u001b[38;5;241m.\u001b[39m_consume_next_step(\n\u001b[1;32m-> 1139\u001b[0m         \u001b[43m[\u001b[49m\n\u001b[0;32m   1140\u001b[0m \u001b[43m            \u001b[49m\u001b[43ma\u001b[49m\n\u001b[0;32m   1141\u001b[0m \u001b[43m            \u001b[49m\u001b[38;5;28;43;01mfor\u001b[39;49;00m\u001b[43m \u001b[49m\u001b[43ma\u001b[49m\u001b[43m \u001b[49m\u001b[38;5;129;43;01min\u001b[39;49;00m\u001b[43m \u001b[49m\u001b[38;5;28;43mself\u001b[39;49m\u001b[38;5;241;43m.\u001b[39;49m\u001b[43m_iter_next_step\u001b[49m\u001b[43m(\u001b[49m\n\u001b[0;32m   1142\u001b[0m \u001b[43m                \u001b[49m\u001b[43mname_to_tool_map\u001b[49m\u001b[43m,\u001b[49m\n\u001b[0;32m   1143\u001b[0m \u001b[43m                \u001b[49m\u001b[43mcolor_mapping\u001b[49m\u001b[43m,\u001b[49m\n\u001b[0;32m   1144\u001b[0m \u001b[43m                \u001b[49m\u001b[43minputs\u001b[49m\u001b[43m,\u001b[49m\n\u001b[0;32m   1145\u001b[0m \u001b[43m                \u001b[49m\u001b[43mintermediate_steps\u001b[49m\u001b[43m,\u001b[49m\n\u001b[0;32m   1146\u001b[0m \u001b[43m                \u001b[49m\u001b[43mrun_manager\u001b[49m\u001b[43m,\u001b[49m\n\u001b[0;32m   1147\u001b[0m \u001b[43m            \u001b[49m\u001b[43m)\u001b[49m\n\u001b[0;32m   1148\u001b[0m \u001b[43m        \u001b[49m\u001b[43m]\u001b[49m\n\u001b[0;32m   1149\u001b[0m     )\n",
      "File \u001b[1;32mc:\\GenAIProject\\GenAIGroupProject\\.venv\\Lib\\site-packages\\langchain\\agents\\agent.py:1224\u001b[0m, in \u001b[0;36mAgentExecutor._iter_next_step\u001b[1;34m(self, name_to_tool_map, color_mapping, inputs, intermediate_steps, run_manager)\u001b[0m\n\u001b[0;32m   1222\u001b[0m     \u001b[38;5;28;01myield\u001b[39;00m agent_action\n\u001b[0;32m   1223\u001b[0m \u001b[38;5;28;01mfor\u001b[39;00m agent_action \u001b[38;5;129;01min\u001b[39;00m actions:\n\u001b[1;32m-> 1224\u001b[0m     \u001b[38;5;28;01myield\u001b[39;00m \u001b[38;5;28;43mself\u001b[39;49m\u001b[38;5;241;43m.\u001b[39;49m\u001b[43m_perform_agent_action\u001b[49m\u001b[43m(\u001b[49m\n\u001b[0;32m   1225\u001b[0m \u001b[43m        \u001b[49m\u001b[43mname_to_tool_map\u001b[49m\u001b[43m,\u001b[49m\u001b[43m \u001b[49m\u001b[43mcolor_mapping\u001b[49m\u001b[43m,\u001b[49m\u001b[43m \u001b[49m\u001b[43magent_action\u001b[49m\u001b[43m,\u001b[49m\u001b[43m \u001b[49m\u001b[43mrun_manager\u001b[49m\n\u001b[0;32m   1226\u001b[0m \u001b[43m    \u001b[49m\u001b[43m)\u001b[49m\n",
      "File \u001b[1;32mc:\\GenAIProject\\GenAIGroupProject\\.venv\\Lib\\site-packages\\langchain\\agents\\agent.py:1246\u001b[0m, in \u001b[0;36mAgentExecutor._perform_agent_action\u001b[1;34m(self, name_to_tool_map, color_mapping, agent_action, run_manager)\u001b[0m\n\u001b[0;32m   1244\u001b[0m         tool_run_kwargs[\u001b[38;5;124m\"\u001b[39m\u001b[38;5;124mllm_prefix\u001b[39m\u001b[38;5;124m\"\u001b[39m] \u001b[38;5;241m=\u001b[39m \u001b[38;5;124m\"\u001b[39m\u001b[38;5;124m\"\u001b[39m\n\u001b[0;32m   1245\u001b[0m     \u001b[38;5;66;03m# We then call the tool on the tool input to get an observation\u001b[39;00m\n\u001b[1;32m-> 1246\u001b[0m     observation \u001b[38;5;241m=\u001b[39m \u001b[43mtool\u001b[49m\u001b[38;5;241;43m.\u001b[39;49m\u001b[43mrun\u001b[49m\u001b[43m(\u001b[49m\n\u001b[0;32m   1247\u001b[0m \u001b[43m        \u001b[49m\u001b[43magent_action\u001b[49m\u001b[38;5;241;43m.\u001b[39;49m\u001b[43mtool_input\u001b[49m\u001b[43m,\u001b[49m\n\u001b[0;32m   1248\u001b[0m \u001b[43m        \u001b[49m\u001b[43mverbose\u001b[49m\u001b[38;5;241;43m=\u001b[39;49m\u001b[38;5;28;43mself\u001b[39;49m\u001b[38;5;241;43m.\u001b[39;49m\u001b[43mverbose\u001b[49m\u001b[43m,\u001b[49m\n\u001b[0;32m   1249\u001b[0m \u001b[43m        \u001b[49m\u001b[43mcolor\u001b[49m\u001b[38;5;241;43m=\u001b[39;49m\u001b[43mcolor\u001b[49m\u001b[43m,\u001b[49m\n\u001b[0;32m   1250\u001b[0m \u001b[43m        \u001b[49m\u001b[43mcallbacks\u001b[49m\u001b[38;5;241;43m=\u001b[39;49m\u001b[43mrun_manager\u001b[49m\u001b[38;5;241;43m.\u001b[39;49m\u001b[43mget_child\u001b[49m\u001b[43m(\u001b[49m\u001b[43m)\u001b[49m\u001b[43m \u001b[49m\u001b[38;5;28;43;01mif\u001b[39;49;00m\u001b[43m \u001b[49m\u001b[43mrun_manager\u001b[49m\u001b[43m \u001b[49m\u001b[38;5;28;43;01melse\u001b[39;49;00m\u001b[43m \u001b[49m\u001b[38;5;28;43;01mNone\u001b[39;49;00m\u001b[43m,\u001b[49m\n\u001b[0;32m   1251\u001b[0m \u001b[43m        \u001b[49m\u001b[38;5;241;43m*\u001b[39;49m\u001b[38;5;241;43m*\u001b[39;49m\u001b[43mtool_run_kwargs\u001b[49m\u001b[43m,\u001b[49m\n\u001b[0;32m   1252\u001b[0m \u001b[43m    \u001b[49m\u001b[43m)\u001b[49m\n\u001b[0;32m   1253\u001b[0m \u001b[38;5;28;01melse\u001b[39;00m:\n\u001b[0;32m   1254\u001b[0m     tool_run_kwargs \u001b[38;5;241m=\u001b[39m \u001b[38;5;28mself\u001b[39m\u001b[38;5;241m.\u001b[39magent\u001b[38;5;241m.\u001b[39mtool_run_logging_kwargs()\n",
      "File \u001b[1;32mc:\\GenAIProject\\GenAIGroupProject\\.venv\\Lib\\site-packages\\langchain_core\\tools.py:452\u001b[0m, in \u001b[0;36mBaseTool.run\u001b[1;34m(self, tool_input, verbose, start_color, color, callbacks, tags, metadata, run_name, run_id, config, **kwargs)\u001b[0m\n\u001b[0;32m    450\u001b[0m \u001b[38;5;28;01mexcept\u001b[39;00m (\u001b[38;5;167;01mException\u001b[39;00m, \u001b[38;5;167;01mKeyboardInterrupt\u001b[39;00m) \u001b[38;5;28;01mas\u001b[39;00m e:\n\u001b[0;32m    451\u001b[0m     run_manager\u001b[38;5;241m.\u001b[39mon_tool_error(e)\n\u001b[1;32m--> 452\u001b[0m     \u001b[38;5;28;01mraise\u001b[39;00m e\n\u001b[0;32m    453\u001b[0m \u001b[38;5;28;01melse\u001b[39;00m:\n\u001b[0;32m    454\u001b[0m     run_manager\u001b[38;5;241m.\u001b[39mon_tool_end(observation, color\u001b[38;5;241m=\u001b[39mcolor, name\u001b[38;5;241m=\u001b[39m\u001b[38;5;28mself\u001b[39m\u001b[38;5;241m.\u001b[39mname, \u001b[38;5;241m*\u001b[39m\u001b[38;5;241m*\u001b[39mkwargs)\n",
      "File \u001b[1;32mc:\\GenAIProject\\GenAIGroupProject\\.venv\\Lib\\site-packages\\langchain_core\\tools.py:409\u001b[0m, in \u001b[0;36mBaseTool.run\u001b[1;34m(self, tool_input, verbose, start_color, color, callbacks, tags, metadata, run_name, run_id, config, **kwargs)\u001b[0m\n\u001b[0;32m    406\u001b[0m     parsed_input \u001b[38;5;241m=\u001b[39m \u001b[38;5;28mself\u001b[39m\u001b[38;5;241m.\u001b[39m_parse_input(tool_input)\n\u001b[0;32m    407\u001b[0m     tool_args, tool_kwargs \u001b[38;5;241m=\u001b[39m \u001b[38;5;28mself\u001b[39m\u001b[38;5;241m.\u001b[39m_to_args_and_kwargs(parsed_input)\n\u001b[0;32m    408\u001b[0m     observation \u001b[38;5;241m=\u001b[39m (\n\u001b[1;32m--> 409\u001b[0m         \u001b[43mcontext\u001b[49m\u001b[38;5;241;43m.\u001b[39;49m\u001b[43mrun\u001b[49m\u001b[43m(\u001b[49m\n\u001b[0;32m    410\u001b[0m \u001b[43m            \u001b[49m\u001b[38;5;28;43mself\u001b[39;49m\u001b[38;5;241;43m.\u001b[39;49m\u001b[43m_run\u001b[49m\u001b[43m,\u001b[49m\u001b[43m \u001b[49m\u001b[38;5;241;43m*\u001b[39;49m\u001b[43mtool_args\u001b[49m\u001b[43m,\u001b[49m\u001b[43m \u001b[49m\u001b[43mrun_manager\u001b[49m\u001b[38;5;241;43m=\u001b[39;49m\u001b[43mrun_manager\u001b[49m\u001b[43m,\u001b[49m\u001b[43m \u001b[49m\u001b[38;5;241;43m*\u001b[39;49m\u001b[38;5;241;43m*\u001b[39;49m\u001b[43mtool_kwargs\u001b[49m\n\u001b[0;32m    411\u001b[0m \u001b[43m        \u001b[49m\u001b[43m)\u001b[49m\n\u001b[0;32m    412\u001b[0m         \u001b[38;5;28;01mif\u001b[39;00m new_arg_supported\n\u001b[0;32m    413\u001b[0m         \u001b[38;5;28;01melse\u001b[39;00m context\u001b[38;5;241m.\u001b[39mrun(\u001b[38;5;28mself\u001b[39m\u001b[38;5;241m.\u001b[39m_run, \u001b[38;5;241m*\u001b[39mtool_args, \u001b[38;5;241m*\u001b[39m\u001b[38;5;241m*\u001b[39mtool_kwargs)\n\u001b[0;32m    414\u001b[0m     )\n\u001b[0;32m    415\u001b[0m \u001b[38;5;28;01mexcept\u001b[39;00m ValidationError \u001b[38;5;28;01mas\u001b[39;00m e:\n\u001b[0;32m    416\u001b[0m     \u001b[38;5;28;01mif\u001b[39;00m \u001b[38;5;129;01mnot\u001b[39;00m \u001b[38;5;28mself\u001b[39m\u001b[38;5;241m.\u001b[39mhandle_validation_error:\n",
      "File \u001b[1;32mc:\\GenAIProject\\GenAIGroupProject\\.venv\\Lib\\site-packages\\langchain_core\\tools.py:627\u001b[0m, in \u001b[0;36mTool._run\u001b[1;34m(self, run_manager, *args, **kwargs)\u001b[0m\n\u001b[0;32m    624\u001b[0m \u001b[38;5;28;01mif\u001b[39;00m \u001b[38;5;28mself\u001b[39m\u001b[38;5;241m.\u001b[39mfunc:\n\u001b[0;32m    625\u001b[0m     new_argument_supported \u001b[38;5;241m=\u001b[39m signature(\u001b[38;5;28mself\u001b[39m\u001b[38;5;241m.\u001b[39mfunc)\u001b[38;5;241m.\u001b[39mparameters\u001b[38;5;241m.\u001b[39mget(\u001b[38;5;124m\"\u001b[39m\u001b[38;5;124mcallbacks\u001b[39m\u001b[38;5;124m\"\u001b[39m)\n\u001b[0;32m    626\u001b[0m     \u001b[38;5;28;01mreturn\u001b[39;00m (\n\u001b[1;32m--> 627\u001b[0m         \u001b[38;5;28;43mself\u001b[39;49m\u001b[38;5;241;43m.\u001b[39;49m\u001b[43mfunc\u001b[49m\u001b[43m(\u001b[49m\n\u001b[0;32m    628\u001b[0m \u001b[43m            \u001b[49m\u001b[38;5;241;43m*\u001b[39;49m\u001b[43margs\u001b[49m\u001b[43m,\u001b[49m\n\u001b[0;32m    629\u001b[0m \u001b[43m            \u001b[49m\u001b[43mcallbacks\u001b[49m\u001b[38;5;241;43m=\u001b[39;49m\u001b[43mrun_manager\u001b[49m\u001b[38;5;241;43m.\u001b[39;49m\u001b[43mget_child\u001b[49m\u001b[43m(\u001b[49m\u001b[43m)\u001b[49m\u001b[43m \u001b[49m\u001b[38;5;28;43;01mif\u001b[39;49;00m\u001b[43m \u001b[49m\u001b[43mrun_manager\u001b[49m\u001b[43m \u001b[49m\u001b[38;5;28;43;01melse\u001b[39;49;00m\u001b[43m \u001b[49m\u001b[38;5;28;43;01mNone\u001b[39;49;00m\u001b[43m,\u001b[49m\n\u001b[0;32m    630\u001b[0m \u001b[43m            \u001b[49m\u001b[38;5;241;43m*\u001b[39;49m\u001b[38;5;241;43m*\u001b[39;49m\u001b[43mkwargs\u001b[49m\u001b[43m,\u001b[49m\n\u001b[0;32m    631\u001b[0m \u001b[43m        \u001b[49m\u001b[43m)\u001b[49m\n\u001b[0;32m    632\u001b[0m         \u001b[38;5;28;01mif\u001b[39;00m new_argument_supported\n\u001b[0;32m    633\u001b[0m         \u001b[38;5;28;01melse\u001b[39;00m \u001b[38;5;28mself\u001b[39m\u001b[38;5;241m.\u001b[39mfunc(\u001b[38;5;241m*\u001b[39margs, \u001b[38;5;241m*\u001b[39m\u001b[38;5;241m*\u001b[39mkwargs)\n\u001b[0;32m    634\u001b[0m     )\n\u001b[0;32m    635\u001b[0m \u001b[38;5;28;01mraise\u001b[39;00m \u001b[38;5;167;01mNotImplementedError\u001b[39;00m(\u001b[38;5;124m\"\u001b[39m\u001b[38;5;124mTool does not support sync\u001b[39m\u001b[38;5;124m\"\u001b[39m)\n",
      "File \u001b[1;32mc:\\GenAIProject\\GenAIGroupProject\\.venv\\Lib\\site-packages\\langchain_core\\_api\\deprecation.py:148\u001b[0m, in \u001b[0;36mdeprecated.<locals>.deprecate.<locals>.warning_emitting_wrapper\u001b[1;34m(*args, **kwargs)\u001b[0m\n\u001b[0;32m    146\u001b[0m     warned \u001b[38;5;241m=\u001b[39m \u001b[38;5;28;01mTrue\u001b[39;00m\n\u001b[0;32m    147\u001b[0m     emit_warning()\n\u001b[1;32m--> 148\u001b[0m \u001b[38;5;28;01mreturn\u001b[39;00m \u001b[43mwrapped\u001b[49m\u001b[43m(\u001b[49m\u001b[38;5;241;43m*\u001b[39;49m\u001b[43margs\u001b[49m\u001b[43m,\u001b[49m\u001b[43m \u001b[49m\u001b[38;5;241;43m*\u001b[39;49m\u001b[38;5;241;43m*\u001b[39;49m\u001b[43mkwargs\u001b[49m\u001b[43m)\u001b[49m\n",
      "File \u001b[1;32mc:\\GenAIProject\\GenAIGroupProject\\.venv\\Lib\\site-packages\\langchain_core\\tools.py:567\u001b[0m, in \u001b[0;36mBaseTool.__call__\u001b[1;34m(self, tool_input, callbacks)\u001b[0m\n\u001b[0;32m    564\u001b[0m \u001b[38;5;129m@deprecated\u001b[39m(\u001b[38;5;124m\"\u001b[39m\u001b[38;5;124m0.1.47\u001b[39m\u001b[38;5;124m\"\u001b[39m, alternative\u001b[38;5;241m=\u001b[39m\u001b[38;5;124m\"\u001b[39m\u001b[38;5;124minvoke\u001b[39m\u001b[38;5;124m\"\u001b[39m, removal\u001b[38;5;241m=\u001b[39m\u001b[38;5;124m\"\u001b[39m\u001b[38;5;124m0.3.0\u001b[39m\u001b[38;5;124m\"\u001b[39m)\n\u001b[0;32m    565\u001b[0m \u001b[38;5;28;01mdef\u001b[39;00m \u001b[38;5;21m__call__\u001b[39m(\u001b[38;5;28mself\u001b[39m, tool_input: \u001b[38;5;28mstr\u001b[39m, callbacks: Callbacks \u001b[38;5;241m=\u001b[39m \u001b[38;5;28;01mNone\u001b[39;00m) \u001b[38;5;241m-\u001b[39m\u001b[38;5;241m>\u001b[39m \u001b[38;5;28mstr\u001b[39m:\n\u001b[0;32m    566\u001b[0m \u001b[38;5;250m    \u001b[39m\u001b[38;5;124;03m\"\"\"Make tool callable.\"\"\"\u001b[39;00m\n\u001b[1;32m--> 567\u001b[0m     \u001b[38;5;28;01mreturn\u001b[39;00m \u001b[38;5;28;43mself\u001b[39;49m\u001b[38;5;241;43m.\u001b[39;49m\u001b[43mrun\u001b[49m\u001b[43m(\u001b[49m\u001b[43mtool_input\u001b[49m\u001b[43m,\u001b[49m\u001b[43m \u001b[49m\u001b[43mcallbacks\u001b[49m\u001b[38;5;241;43m=\u001b[39;49m\u001b[43mcallbacks\u001b[49m\u001b[43m)\u001b[49m\n",
      "File \u001b[1;32mc:\\GenAIProject\\GenAIGroupProject\\.venv\\Lib\\site-packages\\langchain_core\\tools.py:452\u001b[0m, in \u001b[0;36mBaseTool.run\u001b[1;34m(self, tool_input, verbose, start_color, color, callbacks, tags, metadata, run_name, run_id, config, **kwargs)\u001b[0m\n\u001b[0;32m    450\u001b[0m \u001b[38;5;28;01mexcept\u001b[39;00m (\u001b[38;5;167;01mException\u001b[39;00m, \u001b[38;5;167;01mKeyboardInterrupt\u001b[39;00m) \u001b[38;5;28;01mas\u001b[39;00m e:\n\u001b[0;32m    451\u001b[0m     run_manager\u001b[38;5;241m.\u001b[39mon_tool_error(e)\n\u001b[1;32m--> 452\u001b[0m     \u001b[38;5;28;01mraise\u001b[39;00m e\n\u001b[0;32m    453\u001b[0m \u001b[38;5;28;01melse\u001b[39;00m:\n\u001b[0;32m    454\u001b[0m     run_manager\u001b[38;5;241m.\u001b[39mon_tool_end(observation, color\u001b[38;5;241m=\u001b[39mcolor, name\u001b[38;5;241m=\u001b[39m\u001b[38;5;28mself\u001b[39m\u001b[38;5;241m.\u001b[39mname, \u001b[38;5;241m*\u001b[39m\u001b[38;5;241m*\u001b[39mkwargs)\n",
      "File \u001b[1;32mc:\\GenAIProject\\GenAIGroupProject\\.venv\\Lib\\site-packages\\langchain_core\\tools.py:409\u001b[0m, in \u001b[0;36mBaseTool.run\u001b[1;34m(self, tool_input, verbose, start_color, color, callbacks, tags, metadata, run_name, run_id, config, **kwargs)\u001b[0m\n\u001b[0;32m    406\u001b[0m     parsed_input \u001b[38;5;241m=\u001b[39m \u001b[38;5;28mself\u001b[39m\u001b[38;5;241m.\u001b[39m_parse_input(tool_input)\n\u001b[0;32m    407\u001b[0m     tool_args, tool_kwargs \u001b[38;5;241m=\u001b[39m \u001b[38;5;28mself\u001b[39m\u001b[38;5;241m.\u001b[39m_to_args_and_kwargs(parsed_input)\n\u001b[0;32m    408\u001b[0m     observation \u001b[38;5;241m=\u001b[39m (\n\u001b[1;32m--> 409\u001b[0m         \u001b[43mcontext\u001b[49m\u001b[38;5;241;43m.\u001b[39;49m\u001b[43mrun\u001b[49m\u001b[43m(\u001b[49m\n\u001b[0;32m    410\u001b[0m \u001b[43m            \u001b[49m\u001b[38;5;28;43mself\u001b[39;49m\u001b[38;5;241;43m.\u001b[39;49m\u001b[43m_run\u001b[49m\u001b[43m,\u001b[49m\u001b[43m \u001b[49m\u001b[38;5;241;43m*\u001b[39;49m\u001b[43mtool_args\u001b[49m\u001b[43m,\u001b[49m\u001b[43m \u001b[49m\u001b[43mrun_manager\u001b[49m\u001b[38;5;241;43m=\u001b[39;49m\u001b[43mrun_manager\u001b[49m\u001b[43m,\u001b[49m\u001b[43m \u001b[49m\u001b[38;5;241;43m*\u001b[39;49m\u001b[38;5;241;43m*\u001b[39;49m\u001b[43mtool_kwargs\u001b[49m\n\u001b[0;32m    411\u001b[0m \u001b[43m        \u001b[49m\u001b[43m)\u001b[49m\n\u001b[0;32m    412\u001b[0m         \u001b[38;5;28;01mif\u001b[39;00m new_arg_supported\n\u001b[0;32m    413\u001b[0m         \u001b[38;5;28;01melse\u001b[39;00m context\u001b[38;5;241m.\u001b[39mrun(\u001b[38;5;28mself\u001b[39m\u001b[38;5;241m.\u001b[39m_run, \u001b[38;5;241m*\u001b[39mtool_args, \u001b[38;5;241m*\u001b[39m\u001b[38;5;241m*\u001b[39mtool_kwargs)\n\u001b[0;32m    414\u001b[0m     )\n\u001b[0;32m    415\u001b[0m \u001b[38;5;28;01mexcept\u001b[39;00m ValidationError \u001b[38;5;28;01mas\u001b[39;00m e:\n\u001b[0;32m    416\u001b[0m     \u001b[38;5;28;01mif\u001b[39;00m \u001b[38;5;129;01mnot\u001b[39;00m \u001b[38;5;28mself\u001b[39m\u001b[38;5;241m.\u001b[39mhandle_validation_error:\n",
      "File \u001b[1;32mc:\\GenAIProject\\GenAIGroupProject\\.venv\\Lib\\site-packages\\langchain_core\\tools.py:750\u001b[0m, in \u001b[0;36mStructuredTool._run\u001b[1;34m(self, run_manager, *args, **kwargs)\u001b[0m\n\u001b[0;32m    741\u001b[0m \u001b[38;5;28;01mif\u001b[39;00m \u001b[38;5;28mself\u001b[39m\u001b[38;5;241m.\u001b[39mfunc:\n\u001b[0;32m    742\u001b[0m     new_argument_supported \u001b[38;5;241m=\u001b[39m signature(\u001b[38;5;28mself\u001b[39m\u001b[38;5;241m.\u001b[39mfunc)\u001b[38;5;241m.\u001b[39mparameters\u001b[38;5;241m.\u001b[39mget(\u001b[38;5;124m\"\u001b[39m\u001b[38;5;124mcallbacks\u001b[39m\u001b[38;5;124m\"\u001b[39m)\n\u001b[0;32m    743\u001b[0m     \u001b[38;5;28;01mreturn\u001b[39;00m (\n\u001b[0;32m    744\u001b[0m         \u001b[38;5;28mself\u001b[39m\u001b[38;5;241m.\u001b[39mfunc(\n\u001b[0;32m    745\u001b[0m             \u001b[38;5;241m*\u001b[39margs,\n\u001b[0;32m    746\u001b[0m             callbacks\u001b[38;5;241m=\u001b[39mrun_manager\u001b[38;5;241m.\u001b[39mget_child() \u001b[38;5;28;01mif\u001b[39;00m run_manager \u001b[38;5;28;01melse\u001b[39;00m \u001b[38;5;28;01mNone\u001b[39;00m,\n\u001b[0;32m    747\u001b[0m             \u001b[38;5;241m*\u001b[39m\u001b[38;5;241m*\u001b[39mkwargs,\n\u001b[0;32m    748\u001b[0m         )\n\u001b[0;32m    749\u001b[0m         \u001b[38;5;28;01mif\u001b[39;00m new_argument_supported\n\u001b[1;32m--> 750\u001b[0m         \u001b[38;5;28;01melse\u001b[39;00m \u001b[38;5;28;43mself\u001b[39;49m\u001b[38;5;241;43m.\u001b[39;49m\u001b[43mfunc\u001b[49m\u001b[43m(\u001b[49m\u001b[38;5;241;43m*\u001b[39;49m\u001b[43margs\u001b[49m\u001b[43m,\u001b[49m\u001b[43m \u001b[49m\u001b[38;5;241;43m*\u001b[39;49m\u001b[38;5;241;43m*\u001b[39;49m\u001b[43mkwargs\u001b[49m\u001b[43m)\u001b[49m\n\u001b[0;32m    751\u001b[0m     )\n\u001b[0;32m    752\u001b[0m \u001b[38;5;28;01mraise\u001b[39;00m \u001b[38;5;167;01mNotImplementedError\u001b[39;00m(\u001b[38;5;124m\"\u001b[39m\u001b[38;5;124mTool does not support sync\u001b[39m\u001b[38;5;124m\"\u001b[39m)\n",
      "Cell \u001b[1;32mIn[27], line 159\u001b[0m, in \u001b[0;36mportfolio_allocation\u001b[1;34m(query)\u001b[0m\n\u001b[0;32m    120\u001b[0m template \u001b[38;5;241m=\u001b[39m \u001b[38;5;124m\"\"\"\u001b[39m\n\u001b[0;32m    121\u001b[0m \u001b[38;5;124mYou are a helpful assistant who is going to allocate different weights based on context and the invest stratergy that user wants.\u001b[39m\n\u001b[0;32m    122\u001b[0m \u001b[38;5;124mIn order to retreieve the context, use the search_tool and the create_embedding tool to search \u001b[39m\u001b[38;5;124m'\u001b[39m\u001b[38;5;124mTell me about the fininical siutuation of\u001b[39m\n\u001b[1;32m   (...)\u001b[0m\n\u001b[0;32m    128\u001b[0m \u001b[38;5;124m\u001b[39m\u001b[38;5;132;01m{answer}\u001b[39;00m\n\u001b[0;32m    129\u001b[0m \u001b[38;5;124m\u001b[39m\u001b[38;5;124m\"\"\"\u001b[39m\n\u001b[0;32m    131\u001b[0m examples \u001b[38;5;241m=\u001b[39m [\n\u001b[0;32m    132\u001b[0m {\n\u001b[0;32m    133\u001b[0m     \u001b[38;5;124m'\u001b[39m\u001b[38;5;124mquery\u001b[39m\u001b[38;5;124m'\u001b[39m: \u001b[38;5;124m'\u001b[39m\u001b[38;5;124mReallocte the portfolio for client 1 with a balanced strategy\u001b[39m\u001b[38;5;124m'\u001b[39m,\n\u001b[1;32m   (...)\u001b[0m\n\u001b[0;32m    157\u001b[0m }\n\u001b[0;32m    158\u001b[0m ]\n\u001b[1;32m--> 159\u001b[0m c1 \u001b[38;5;241m=\u001b[39m \u001b[43mcreate_embeddings\u001b[49m\u001b[43m(\u001b[49m\u001b[38;5;124;43m\"\u001b[39;49m\u001b[38;5;124;43mwhat is the current financial outlook of AAPL, MSFT, NVIDIA\u001b[39;49m\u001b[38;5;124;43m\"\u001b[39;49m\u001b[43m)\u001b[49m\n\u001b[0;32m    160\u001b[0m c2 \u001b[38;5;241m=\u001b[39m search_tool(\u001b[38;5;124m\"\u001b[39m\u001b[38;5;124mwhat is the current financial outlook of AAPL, MSFT, NVIDIA\u001b[39m\u001b[38;5;124m\"\u001b[39m)\n\u001b[0;32m    162\u001b[0m context \u001b[38;5;241m=\u001b[39m c1 \u001b[38;5;241m+\u001b[39m c2\n",
      "File \u001b[1;32mc:\\GenAIProject\\GenAIGroupProject\\.venv\\Lib\\site-packages\\langchain_core\\_api\\deprecation.py:148\u001b[0m, in \u001b[0;36mdeprecated.<locals>.deprecate.<locals>.warning_emitting_wrapper\u001b[1;34m(*args, **kwargs)\u001b[0m\n\u001b[0;32m    146\u001b[0m     warned \u001b[38;5;241m=\u001b[39m \u001b[38;5;28;01mTrue\u001b[39;00m\n\u001b[0;32m    147\u001b[0m     emit_warning()\n\u001b[1;32m--> 148\u001b[0m \u001b[38;5;28;01mreturn\u001b[39;00m \u001b[43mwrapped\u001b[49m\u001b[43m(\u001b[49m\u001b[38;5;241;43m*\u001b[39;49m\u001b[43margs\u001b[49m\u001b[43m,\u001b[49m\u001b[43m \u001b[49m\u001b[38;5;241;43m*\u001b[39;49m\u001b[38;5;241;43m*\u001b[39;49m\u001b[43mkwargs\u001b[49m\u001b[43m)\u001b[49m\n",
      "File \u001b[1;32mc:\\GenAIProject\\GenAIGroupProject\\.venv\\Lib\\site-packages\\langchain_core\\tools.py:567\u001b[0m, in \u001b[0;36mBaseTool.__call__\u001b[1;34m(self, tool_input, callbacks)\u001b[0m\n\u001b[0;32m    564\u001b[0m \u001b[38;5;129m@deprecated\u001b[39m(\u001b[38;5;124m\"\u001b[39m\u001b[38;5;124m0.1.47\u001b[39m\u001b[38;5;124m\"\u001b[39m, alternative\u001b[38;5;241m=\u001b[39m\u001b[38;5;124m\"\u001b[39m\u001b[38;5;124minvoke\u001b[39m\u001b[38;5;124m\"\u001b[39m, removal\u001b[38;5;241m=\u001b[39m\u001b[38;5;124m\"\u001b[39m\u001b[38;5;124m0.3.0\u001b[39m\u001b[38;5;124m\"\u001b[39m)\n\u001b[0;32m    565\u001b[0m \u001b[38;5;28;01mdef\u001b[39;00m \u001b[38;5;21m__call__\u001b[39m(\u001b[38;5;28mself\u001b[39m, tool_input: \u001b[38;5;28mstr\u001b[39m, callbacks: Callbacks \u001b[38;5;241m=\u001b[39m \u001b[38;5;28;01mNone\u001b[39;00m) \u001b[38;5;241m-\u001b[39m\u001b[38;5;241m>\u001b[39m \u001b[38;5;28mstr\u001b[39m:\n\u001b[0;32m    566\u001b[0m \u001b[38;5;250m    \u001b[39m\u001b[38;5;124;03m\"\"\"Make tool callable.\"\"\"\u001b[39;00m\n\u001b[1;32m--> 567\u001b[0m     \u001b[38;5;28;01mreturn\u001b[39;00m \u001b[38;5;28;43mself\u001b[39;49m\u001b[38;5;241;43m.\u001b[39;49m\u001b[43mrun\u001b[49m\u001b[43m(\u001b[49m\u001b[43mtool_input\u001b[49m\u001b[43m,\u001b[49m\u001b[43m \u001b[49m\u001b[43mcallbacks\u001b[49m\u001b[38;5;241;43m=\u001b[39;49m\u001b[43mcallbacks\u001b[49m\u001b[43m)\u001b[49m\n",
      "File \u001b[1;32mc:\\GenAIProject\\GenAIGroupProject\\.venv\\Lib\\site-packages\\langchain_core\\tools.py:452\u001b[0m, in \u001b[0;36mBaseTool.run\u001b[1;34m(self, tool_input, verbose, start_color, color, callbacks, tags, metadata, run_name, run_id, config, **kwargs)\u001b[0m\n\u001b[0;32m    450\u001b[0m \u001b[38;5;28;01mexcept\u001b[39;00m (\u001b[38;5;167;01mException\u001b[39;00m, \u001b[38;5;167;01mKeyboardInterrupt\u001b[39;00m) \u001b[38;5;28;01mas\u001b[39;00m e:\n\u001b[0;32m    451\u001b[0m     run_manager\u001b[38;5;241m.\u001b[39mon_tool_error(e)\n\u001b[1;32m--> 452\u001b[0m     \u001b[38;5;28;01mraise\u001b[39;00m e\n\u001b[0;32m    453\u001b[0m \u001b[38;5;28;01melse\u001b[39;00m:\n\u001b[0;32m    454\u001b[0m     run_manager\u001b[38;5;241m.\u001b[39mon_tool_end(observation, color\u001b[38;5;241m=\u001b[39mcolor, name\u001b[38;5;241m=\u001b[39m\u001b[38;5;28mself\u001b[39m\u001b[38;5;241m.\u001b[39mname, \u001b[38;5;241m*\u001b[39m\u001b[38;5;241m*\u001b[39mkwargs)\n",
      "File \u001b[1;32mc:\\GenAIProject\\GenAIGroupProject\\.venv\\Lib\\site-packages\\langchain_core\\tools.py:409\u001b[0m, in \u001b[0;36mBaseTool.run\u001b[1;34m(self, tool_input, verbose, start_color, color, callbacks, tags, metadata, run_name, run_id, config, **kwargs)\u001b[0m\n\u001b[0;32m    406\u001b[0m     parsed_input \u001b[38;5;241m=\u001b[39m \u001b[38;5;28mself\u001b[39m\u001b[38;5;241m.\u001b[39m_parse_input(tool_input)\n\u001b[0;32m    407\u001b[0m     tool_args, tool_kwargs \u001b[38;5;241m=\u001b[39m \u001b[38;5;28mself\u001b[39m\u001b[38;5;241m.\u001b[39m_to_args_and_kwargs(parsed_input)\n\u001b[0;32m    408\u001b[0m     observation \u001b[38;5;241m=\u001b[39m (\n\u001b[1;32m--> 409\u001b[0m         \u001b[43mcontext\u001b[49m\u001b[38;5;241;43m.\u001b[39;49m\u001b[43mrun\u001b[49m\u001b[43m(\u001b[49m\n\u001b[0;32m    410\u001b[0m \u001b[43m            \u001b[49m\u001b[38;5;28;43mself\u001b[39;49m\u001b[38;5;241;43m.\u001b[39;49m\u001b[43m_run\u001b[49m\u001b[43m,\u001b[49m\u001b[43m \u001b[49m\u001b[38;5;241;43m*\u001b[39;49m\u001b[43mtool_args\u001b[49m\u001b[43m,\u001b[49m\u001b[43m \u001b[49m\u001b[43mrun_manager\u001b[49m\u001b[38;5;241;43m=\u001b[39;49m\u001b[43mrun_manager\u001b[49m\u001b[43m,\u001b[49m\u001b[43m \u001b[49m\u001b[38;5;241;43m*\u001b[39;49m\u001b[38;5;241;43m*\u001b[39;49m\u001b[43mtool_kwargs\u001b[49m\n\u001b[0;32m    411\u001b[0m \u001b[43m        \u001b[49m\u001b[43m)\u001b[49m\n\u001b[0;32m    412\u001b[0m         \u001b[38;5;28;01mif\u001b[39;00m new_arg_supported\n\u001b[0;32m    413\u001b[0m         \u001b[38;5;28;01melse\u001b[39;00m context\u001b[38;5;241m.\u001b[39mrun(\u001b[38;5;28mself\u001b[39m\u001b[38;5;241m.\u001b[39m_run, \u001b[38;5;241m*\u001b[39mtool_args, \u001b[38;5;241m*\u001b[39m\u001b[38;5;241m*\u001b[39mtool_kwargs)\n\u001b[0;32m    414\u001b[0m     )\n\u001b[0;32m    415\u001b[0m \u001b[38;5;28;01mexcept\u001b[39;00m ValidationError \u001b[38;5;28;01mas\u001b[39;00m e:\n\u001b[0;32m    416\u001b[0m     \u001b[38;5;28;01mif\u001b[39;00m \u001b[38;5;129;01mnot\u001b[39;00m \u001b[38;5;28mself\u001b[39m\u001b[38;5;241m.\u001b[39mhandle_validation_error:\n",
      "File \u001b[1;32mc:\\GenAIProject\\GenAIGroupProject\\.venv\\Lib\\site-packages\\langchain_core\\tools.py:750\u001b[0m, in \u001b[0;36mStructuredTool._run\u001b[1;34m(self, run_manager, *args, **kwargs)\u001b[0m\n\u001b[0;32m    741\u001b[0m \u001b[38;5;28;01mif\u001b[39;00m \u001b[38;5;28mself\u001b[39m\u001b[38;5;241m.\u001b[39mfunc:\n\u001b[0;32m    742\u001b[0m     new_argument_supported \u001b[38;5;241m=\u001b[39m signature(\u001b[38;5;28mself\u001b[39m\u001b[38;5;241m.\u001b[39mfunc)\u001b[38;5;241m.\u001b[39mparameters\u001b[38;5;241m.\u001b[39mget(\u001b[38;5;124m\"\u001b[39m\u001b[38;5;124mcallbacks\u001b[39m\u001b[38;5;124m\"\u001b[39m)\n\u001b[0;32m    743\u001b[0m     \u001b[38;5;28;01mreturn\u001b[39;00m (\n\u001b[0;32m    744\u001b[0m         \u001b[38;5;28mself\u001b[39m\u001b[38;5;241m.\u001b[39mfunc(\n\u001b[0;32m    745\u001b[0m             \u001b[38;5;241m*\u001b[39margs,\n\u001b[0;32m    746\u001b[0m             callbacks\u001b[38;5;241m=\u001b[39mrun_manager\u001b[38;5;241m.\u001b[39mget_child() \u001b[38;5;28;01mif\u001b[39;00m run_manager \u001b[38;5;28;01melse\u001b[39;00m \u001b[38;5;28;01mNone\u001b[39;00m,\n\u001b[0;32m    747\u001b[0m             \u001b[38;5;241m*\u001b[39m\u001b[38;5;241m*\u001b[39mkwargs,\n\u001b[0;32m    748\u001b[0m         )\n\u001b[0;32m    749\u001b[0m         \u001b[38;5;28;01mif\u001b[39;00m new_argument_supported\n\u001b[1;32m--> 750\u001b[0m         \u001b[38;5;28;01melse\u001b[39;00m \u001b[38;5;28;43mself\u001b[39;49m\u001b[38;5;241;43m.\u001b[39;49m\u001b[43mfunc\u001b[49m\u001b[43m(\u001b[49m\u001b[38;5;241;43m*\u001b[39;49m\u001b[43margs\u001b[49m\u001b[43m,\u001b[49m\u001b[43m \u001b[49m\u001b[38;5;241;43m*\u001b[39;49m\u001b[38;5;241;43m*\u001b[39;49m\u001b[43mkwargs\u001b[49m\u001b[43m)\u001b[49m\n\u001b[0;32m    751\u001b[0m     )\n\u001b[0;32m    752\u001b[0m \u001b[38;5;28;01mraise\u001b[39;00m \u001b[38;5;167;01mNotImplementedError\u001b[39;00m(\u001b[38;5;124m\"\u001b[39m\u001b[38;5;124mTool does not support sync\u001b[39m\u001b[38;5;124m\"\u001b[39m)\n",
      "Cell \u001b[1;32mIn[27], line 49\u001b[0m, in \u001b[0;36mcreate_embeddings\u001b[1;34m(query)\u001b[0m\n\u001b[0;32m     47\u001b[0m \u001b[38;5;28;01mfrom\u001b[39;00m \u001b[38;5;21;01mvector_database_rawtxt\u001b[39;00m \u001b[38;5;28;01mimport\u001b[39;00m create_milvus_db\n\u001b[0;32m     48\u001b[0m vector_store \u001b[38;5;241m=\u001b[39m create_milvus_db\n\u001b[1;32m---> 49\u001b[0m \u001b[43mvector_store\u001b[49m\u001b[38;5;241;43m.\u001b[39;49m\u001b[43mload\u001b[49m()\n\u001b[0;32m     51\u001b[0m model \u001b[38;5;241m=\u001b[39m SentenceTransformer(\u001b[38;5;124m\"\u001b[39m\u001b[38;5;124mall-MiniLM-L6-v2\u001b[39m\u001b[38;5;124m\"\u001b[39m)\n\u001b[0;32m     52\u001b[0m embedded_query_qn \u001b[38;5;241m=\u001b[39m model\u001b[38;5;241m.\u001b[39mencode(query)\n",
      "\u001b[1;31mAttributeError\u001b[0m: 'function' object has no attribute 'load'"
     ]
    }
   ],
   "source": [
    "template = \"\"\"\n",
    "You need to use the tools to find the appropriate action to take. \n",
    "\n",
    "If you are searching for information use the create_emebddings tool FIRST.\n",
    "\n",
    "Only use the query_database and portfolio_allocation tools when the term \"clients\" is mentioned in the query .\n",
    "if only the query_database is used, the output has to be EXACTLY as it is in the function.\n",
    "and if further queries are presented alongside the term \"clients\", then use all tools available.\n",
    "\n",
    "Try to get relevant responses within our internal documents. If you get relevant\n",
    "responses, return them to the user. \n",
    "\n",
    "If you do not get relevent results from the embeddings, use the search_tool to get responses from the internet.\n",
    "\n",
    "If you still can't find an answer from an online search, \n",
    "please do not make up an answer and return 'Sorry I cannot answer your query' instead.\n",
    "\n",
    "If performing portfolio_allocation, use the tools \"search_tool\" and \"create_embeddings\" \n",
    "to get context around AAPL, MSFT, NVIDIA's financial situation. \n",
    "Use a query with these tools that states: \"Tell me about the company's financial situation\".\n",
    "\n",
    "You have access to the following tools:\n",
    "{tools}\n",
    "\n",
    "Question: the input question you must answer\n",
    "\n",
    "Thought: you should always think about what to do\n",
    "\n",
    "Action: the action to take, should be one of [{tool_names}]\n",
    "\n",
    "Action Input: the input to the action\n",
    "\n",
    "Observation: the result of the action\n",
    "\n",
    "... (this Thought/Action/Action Input/Observation can repeat N times)\n",
    "\n",
    "Thought: I now know the final answer\n",
    "\n",
    "If your thought before the final answer includes the output from the portfolio_allocation tool, give the response by including ACTUAL percentages totalling to 100. \n",
    "\n",
    "If your thought before the final answer uses the query_database tool, treat the tool as a function and return a dictionary output as the final answer.\n",
    "\n",
    "Final Answer: the final answer to the original input question\n",
    "\n",
    "Begin!\n",
    "\n",
    "\n",
    "Question: {input}\n",
    "\n",
    "Thought:{agent_scratchpad}\n",
    "\"\"\"\n",
    "\n",
    "\n",
    "# Define the query and create the prompt\n",
    "#query = 'return the values for client_id 1 in the sql database and also tell me the current apple stock price'\n",
    "#query = 'Tell me the todays Apple stock price'\n",
    "#query = 'Return me the stock allocation for client 5'\n",
    "# query = 'Return me the stock allocation for client 8'\n",
    "#query = 'Return me the stock allocation for every client'\n",
    "#query = 'give me all the stock allocations from all clients up to client 3'\n",
    "#query = \"The Company continues to develop new technologies to enhance existing products and services and to expand the range of its offerings through research and development RD licensing of intellectual property and acquisition of thirdparty businesses and technology\"\n",
    "# query = \"Give me a sentence from the apple 10-k report\"\n",
    "#query = \"what is the net sales of iPhones in 2021\"\n",
    "#query =  \"add a new client to the database with random stock allocations, provide the sql query to do so and execute it\"\n",
    "#query =  \"set the stock allocations for client_id 1 to 5,5,90. provide the sql query to do so and execute it on the database\" #remeber to pull numbers from another query into this framework\n",
    "#query = 'give me all the stock allocations from all clients up to client 3'\n",
    "# query = 'give me all the stock allocations for all clients up to client 3'\n",
    "query = 'Reallocate the stocks for client 3 using a balanced stratergy'\n",
    "\n",
    "prompt = PromptTemplate(input_variables=['input','tools', 'agent_scratchpad', 'tool_names'], template=template)\n",
    "\n",
    "# Initialize the language model\n",
    "llm = ChatOpenAI(api_key=os.getenv('OPENAI_API_KEY'), model='gpt-3.5-turbo', temperature=0.2)\n",
    "\n",
    "\n",
    "# Create the agent using the language model and the toolset\n",
    "agent = create_react_agent(llm=llm, tools=tools, prompt=prompt)\n",
    "\n",
    "# Create the agent executor\n",
    "agent_executor = AgentExecutor(agent=agent, tools=tools, verbose=True, handle_parsing_errors=True)\n",
    "\n",
    "# Execute the agent with the given input\n",
    "response = agent_executor.invoke({'input': query, 'tools' : tools, 'tool_names' : [tool.name for tool in tools]})\n",
    "\n",
    "print(response['output'])"
   ]
  },
  {
   "cell_type": "code",
   "execution_count": 47,
   "metadata": {},
   "outputs": [
    {
     "name": "stderr",
     "output_type": "stream",
     "text": [
      "c:\\GenAIProject\\GenAIGroupProject\\.venv\\Lib\\site-packages\\huggingface_hub\\file_download.py:1132: FutureWarning: `resume_download` is deprecated and will be removed in version 1.0.0. Downloads always resume when possible. If you want to force a new download, use `force_download=True`.\n",
      "  warnings.warn(\n"
     ]
    },
    {
     "name": "stdout",
     "output_type": "stream",
     "text": [
      "Plain text and embeddings have been successfully loaded from data/annual_filings_model_state.pkl\n",
      "Index, plain text and embeddings have been successfully inserted into your Milvus Collection\n",
      "['the sales price of certain products iPhone iPhone net sales increased during 2022 compared to 2021 due primarily to higher net sales from the Companys new iPhone models released since the beginning of the fourth quarter of 2021 Mac Mac net sales increased during 2022 compared to 2021 due primarily to higher net sales of laptops iPad iPad net sales decreased during 2022 compared to 2021 due primarily to lower net sales of iPad Pro Wearables Home and Accessories Wearables Home and Accessories net sales increased during 2022 compared to 2021 due primarily to higher net sales of Apple Watch and AirPods Services Services net sales increased during 2022 compared to 2021 due primarily to higher net sales from advertising cloud services and the App Store Apple Inc 2022 Form 10K 21 Segment Operating Performance The Company manages its business primarily on a geographic basis The Companys reportable segments consist of the Americas Europe Greater China Japan and Rest of Asia Pacific Americas', 'category iPhone 191973 39 137781 3 142381 Mac 35190 23 28622 11 25740 iPad 31862 34 23724 11 21280 Wearables Home and Accessories 38367 25 30620 25 24482 Services 68425 27 53768 16 46291 Total net sales 365817 33 274515 6 260174 1 Products net sales include amortization of the deferred value of unspecified software upgrade rights which are bundled in the sales price of the respective product 2 Wearables Home and Accessories net sales include sales of AirPods Apple TV Apple Watch Beats products HomePod iPod touch and accessories 3 Services net sales include sales from the Companys advertising AppleCare cloud digital content payment and other services Services net sales also include amortization of the deferred value of services bundled in the sales price of certain products iPhone iPhone net sales increased during 2021 compared to 2020 due primarily to higher net sales from the Companys new iPhone models launched in the first quarter and fourth quarter of 2021 and a favorable mix of', 'sales price of the respective product 2 Services net sales include amortization of the deferred value of services bundled in the sales price of certain products Total net sales include 82 billion of revenue recognized in 2023 that was included in deferred revenue as of September 24 2022 75 billion of revenue recognized in 2022 that was included in deferred revenue as of September 25 2021 and 67 billion of revenue recognized in 2021 that was included in deferred revenue as of September 26 2020 The Companys proportion of net sales by disaggregated revenue source was generally consistent for each reportable segment in Note 13 Segment Information and Geographic Data for 2023 2022 and 2021 except in Greater China where iPhone revenue represented a moderately higher proportion of net sales As of September 30 2023 and September 24 2022 the Company had total deferred revenue of 121 billion and 124 billion respectively As of September 30 2023 the Company expects 67 of total deferred revenue to', 'and Services Performance The following table shows net sales by category for 2023 2022 and 2021 dollars in millions 2023 Change 2022 Change 2021 Net sales by category iPhone 200583 2 205489 7 191973 Mac 29357 27 40177 14 35190 iPad 28300 3 29292 8 31862 Wearables Home and Accessories 39845 3 41241 7 38367 Services 85200 9 78129 14 68425 Total net sales 383285 3 394328 8 365817 1 Products net sales include amortization of the deferred value of unspecified software upgrade rights which are bundled in the sales price of the respective product 2 Services net sales include amortization of the deferred value of services bundled in the sales price of certain products iPhone iPhone net sales decreased 2 or 49 billion during 2023 compared to 2022 due to lower net sales of nonPro iPhone models partially offset by higher net sales of Pro iPhone models Mac Mac net sales decreased 27 or 108 billion during 2023 compared to 2022 due primarily to lower net sales of laptops iPad iPad net sales', '10K 36 Deferred Revenue As of September 25 2021 and September 26 2020 the Company had total deferred revenue of 119 billion and 102 billion respectively As of September 25 2021 the Company expects 64 of total deferred revenue to be realized in less than a year 26 within onetotwo years 8 within twotothree years and 2 in greater than three years Disaggregated Revenue Net sales disaggregated by significant products and services for 2021 2020 and 2019 were as follows in millions 2021 2020 2019 iPhone 191973 137781 142381 Mac 35190 28622 25740 iPad 31862 23724 21280 Wearables Home and Accessories 38367 30620 24482 Services 68425 53768 46291 Total net sales 365817 274515 260174 1 Products net sales include amortization of the deferred value of unspecified software upgrade rights which are bundled in the sales price of the respective product 2 Wearables Home and Accessories net sales include sales of AirPods Apple TV Apple Watch Beats products HomePod iPod touch and accessories 3 Services']\n"
     ]
    }
   ],
   "source": [
    "x = create_embeddings(\"what is the net sales of iPhones in 2021\")\n",
    "print(x)"
   ]
  },
  {
   "cell_type": "code",
   "execution_count": 48,
   "metadata": {},
   "outputs": [
    {
     "name": "stdout",
     "output_type": "stream",
     "text": [
      "the sales price of certain products iPhone iPhone net sales increased during 2022 compared to 2021 due primarily to higher net sales from the Companys new iPhone models released since the beginning of the fourth quarter of 2021 Mac Mac net sales increased during 2022 compared to 2021 due primarily to higher net sales of laptops iPad iPad net sales decreased during 2022 compared to 2021 due primarily to lower net sales of iPad Pro Wearables Home and Accessories Wearables Home and Accessories net sales increased during 2022 compared to 2021 due primarily to higher net sales of Apple Watch and AirPods Services Services net sales increased during 2022 compared to 2021 due primarily to higher net sales from advertising cloud services and the App Store Apple Inc 2022 Form 10K 21 Segment Operating Performance The Company manages its business primarily on a geographic basis The Companys reportable segments consist of the Americas Europe Greater China Japan and Rest of Asia Pacific Americas\n",
      "category iPhone 191973 39 137781 3 142381 Mac 35190 23 28622 11 25740 iPad 31862 34 23724 11 21280 Wearables Home and Accessories 38367 25 30620 25 24482 Services 68425 27 53768 16 46291 Total net sales 365817 33 274515 6 260174 1 Products net sales include amortization of the deferred value of unspecified software upgrade rights which are bundled in the sales price of the respective product 2 Wearables Home and Accessories net sales include sales of AirPods Apple TV Apple Watch Beats products HomePod iPod touch and accessories 3 Services net sales include sales from the Companys advertising AppleCare cloud digital content payment and other services Services net sales also include amortization of the deferred value of services bundled in the sales price of certain products iPhone iPhone net sales increased during 2021 compared to 2020 due primarily to higher net sales from the Companys new iPhone models launched in the first quarter and fourth quarter of 2021 and a favorable mix of\n",
      "sales price of the respective product 2 Services net sales include amortization of the deferred value of services bundled in the sales price of certain products Total net sales include 82 billion of revenue recognized in 2023 that was included in deferred revenue as of September 24 2022 75 billion of revenue recognized in 2022 that was included in deferred revenue as of September 25 2021 and 67 billion of revenue recognized in 2021 that was included in deferred revenue as of September 26 2020 The Companys proportion of net sales by disaggregated revenue source was generally consistent for each reportable segment in Note 13 Segment Information and Geographic Data for 2023 2022 and 2021 except in Greater China where iPhone revenue represented a moderately higher proportion of net sales As of September 30 2023 and September 24 2022 the Company had total deferred revenue of 121 billion and 124 billion respectively As of September 30 2023 the Company expects 67 of total deferred revenue to\n",
      "and Services Performance The following table shows net sales by category for 2023 2022 and 2021 dollars in millions 2023 Change 2022 Change 2021 Net sales by category iPhone 200583 2 205489 7 191973 Mac 29357 27 40177 14 35190 iPad 28300 3 29292 8 31862 Wearables Home and Accessories 39845 3 41241 7 38367 Services 85200 9 78129 14 68425 Total net sales 383285 3 394328 8 365817 1 Products net sales include amortization of the deferred value of unspecified software upgrade rights which are bundled in the sales price of the respective product 2 Services net sales include amortization of the deferred value of services bundled in the sales price of certain products iPhone iPhone net sales decreased 2 or 49 billion during 2023 compared to 2022 due to lower net sales of nonPro iPhone models partially offset by higher net sales of Pro iPhone models Mac Mac net sales decreased 27 or 108 billion during 2023 compared to 2022 due primarily to lower net sales of laptops iPad iPad net sales\n",
      "10K 36 Deferred Revenue As of September 25 2021 and September 26 2020 the Company had total deferred revenue of 119 billion and 102 billion respectively As of September 25 2021 the Company expects 64 of total deferred revenue to be realized in less than a year 26 within onetotwo years 8 within twotothree years and 2 in greater than three years Disaggregated Revenue Net sales disaggregated by significant products and services for 2021 2020 and 2019 were as follows in millions 2021 2020 2019 iPhone 191973 137781 142381 Mac 35190 28622 25740 iPad 31862 23724 21280 Wearables Home and Accessories 38367 30620 24482 Services 68425 53768 46291 Total net sales 365817 274515 260174 1 Products net sales include amortization of the deferred value of unspecified software upgrade rights which are bundled in the sales price of the respective product 2 Wearables Home and Accessories net sales include sales of AirPods Apple TV Apple Watch Beats products HomePod iPod touch and accessories 3 Services\n"
     ]
    }
   ],
   "source": [
    "for i in x:\n",
    "    print(i)"
   ]
  }
 ],
 "metadata": {
  "kernelspec": {
   "display_name": ".venv",
   "language": "python",
   "name": "python3"
  },
  "language_info": {
   "codemirror_mode": {
    "name": "ipython",
    "version": 3
   },
   "file_extension": ".py",
   "mimetype": "text/x-python",
   "name": "python",
   "nbconvert_exporter": "python",
   "pygments_lexer": "ipython3",
   "version": "3.12.2"
  }
 },
 "nbformat": 4,
 "nbformat_minor": 2
}
