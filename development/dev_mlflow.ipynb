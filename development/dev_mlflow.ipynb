{
 "cells": [
  {
   "cell_type": "markdown",
   "metadata": {},
   "source": [
    "# Development: ML Flow\n",
    "\n",
    "File for developing the mlflow code for the project."
   ]
  },
  {
   "cell_type": "code",
   "execution_count": 1,
   "metadata": {},
   "outputs": [],
   "source": [
    "# IMPORTS --------------------------------------------------------------------------------------------------------------\n",
    "\n",
    "# Use the below lines if any dependencies are missing.\n",
    "# ! python -m pip install uv\n",
    "# ! python -m uv pip install langchain_openai mlflow load_dotenv langchain pandas langchain_community\n",
    "\n",
    "import os\n",
    "import sys\n",
    "\n",
    "sys.path.append(os.path.abspath('\\\\'.join(os.getcwd().split('\\\\')[:-1])))\n",
    "\n",
    "import pandas as pd\n",
    "from dotenv import load_dotenv\n",
    "from ml_flow import (mlflow_server, create_example_llm, evaluate_llm, create_agent, evaluate_agent, get_info_on_runs,\n",
    "                     delete_all_runs)\n",
    "\n",
    "_ = load_dotenv()\n",
    "\n",
    "import logging\n",
    "logger = logging.getLogger()\n",
    "logger.setLevel(logging.CRITICAL)"
   ]
  },
  {
   "cell_type": "markdown",
   "metadata": {},
   "source": [
    "To begin with, we run the ML-Flow server:"
   ]
  },
  {
   "cell_type": "code",
   "execution_count": 2,
   "metadata": {},
   "outputs": [],
   "source": [
    "server_process = mlflow_server()"
   ]
  },
  {
   "cell_type": "markdown",
   "metadata": {},
   "source": [
    "## LLM and Standard ML FLow\n",
    "\n",
    "Let's generate an example LLM:"
   ]
  },
  {
   "cell_type": "code",
   "execution_count": 3,
   "metadata": {},
   "outputs": [],
   "source": [
    "example_model = create_example_llm()"
   ]
  },
  {
   "cell_type": "markdown",
   "metadata": {},
   "source": [
    "We'll then read in an evaluation set:"
   ]
  },
  {
   "cell_type": "code",
   "execution_count": 4,
   "metadata": {},
   "outputs": [
    {
     "data": {
      "text/html": [
       "<div>\n",
       "<style scoped>\n",
       "    .dataframe tbody tr th:only-of-type {\n",
       "        vertical-align: middle;\n",
       "    }\n",
       "\n",
       "    .dataframe tbody tr th {\n",
       "        vertical-align: top;\n",
       "    }\n",
       "\n",
       "    .dataframe thead th {\n",
       "        text-align: right;\n",
       "    }\n",
       "</style>\n",
       "<table border=\"1\" class=\"dataframe\">\n",
       "  <thead>\n",
       "    <tr style=\"text-align: right;\">\n",
       "      <th></th>\n",
       "      <th>inputs</th>\n",
       "      <th>context</th>\n",
       "      <th>targets</th>\n",
       "    </tr>\n",
       "  </thead>\n",
       "  <tbody>\n",
       "    <tr>\n",
       "      <th>0</th>\n",
       "      <td>How much money does client 1 have in shares?</td>\n",
       "      <td>Client 1 has 20 shares. 70% of their shares ar...</td>\n",
       "      <td>Client 1 has £14,000 worth of NVDA shares (70%...</td>\n",
       "    </tr>\n",
       "    <tr>\n",
       "      <th>1</th>\n",
       "      <td>How much money does client 2 have in shares?</td>\n",
       "      <td>Client 2 has 10 shares. 30% of their shares ar...</td>\n",
       "      <td>Client 2 has £3,000 worth of NVDA shares (30% ...</td>\n",
       "    </tr>\n",
       "  </tbody>\n",
       "</table>\n",
       "</div>"
      ],
      "text/plain": [
       "                                         inputs  \\\n",
       "0  How much money does client 1 have in shares?   \n",
       "1  How much money does client 2 have in shares?   \n",
       "\n",
       "                                             context  \\\n",
       "0  Client 1 has 20 shares. 70% of their shares ar...   \n",
       "1  Client 2 has 10 shares. 30% of their shares ar...   \n",
       "\n",
       "                                             targets  \n",
       "0  Client 1 has £14,000 worth of NVDA shares (70%...  \n",
       "1  Client 2 has £3,000 worth of NVDA shares (30% ...  "
      ]
     },
     "metadata": {},
     "output_type": "display_data"
    }
   ],
   "source": [
    "data_folder_path = '\\\\'.join(os.getcwd().split('\\\\')[:-1]) +'/data/'\n",
    "file_name = 'Evaluation Dataset - LLM.csv'\n",
    "\n",
    "file_path = data_folder_path + file_name\n",
    "eval_set = pd.read_csv(file_path)\n",
    "\n",
    "eval_set = eval_set.rename(columns={'question': 'inputs', 'target': 'targets'})\n",
    "\n",
    "display(eval_set)"
   ]
  },
  {
   "cell_type": "markdown",
   "metadata": {},
   "source": [
    "Let's demonstrate that the model works:"
   ]
  },
  {
   "cell_type": "code",
   "execution_count": 5,
   "metadata": {},
   "outputs": [
    {
     "name": "stdout",
     "output_type": "stream",
     "text": [
      "Question: How much money does client 1 have in shares?\n",
      "\n",
      "Answer: Client 1 has £14,000 worth of NVDA shares (70% of 20 shares x £1000 per share) and £5,700 worth of AAPL shares (30% of 20 shares x £190 per share). Therefore, in total, Client 1 has £19,700 in shares.\n"
     ]
    }
   ],
   "source": [
    "question = eval_set['inputs'][0]\n",
    "context = eval_set['context'][0]\n",
    "\n",
    "print(f\"Question: {question}\")\n",
    "print('')\n",
    "print('Answer: ' + example_model.invoke({'inputs': question, 'context': context}))"
   ]
  },
  {
   "cell_type": "markdown",
   "metadata": {},
   "source": [
    "We then connect to ML-Flow:"
   ]
  },
  {
   "cell_type": "code",
   "execution_count": 6,
   "metadata": {},
   "outputs": [
    {
     "name": "stderr",
     "output_type": "stream",
     "text": [
      "2024/05/30 15:56:45 INFO mlflow.models.evaluation.default_evaluator: Computing model predictions.\n",
      "2024/05/30 15:56:47 INFO mlflow.models.evaluation.default_evaluator: Testing metrics on first row...\n",
      "2024/05/30 15:56:49 WARNING mlflow.metrics.metric_definitions: Failed to load 'toxicity' metric (error: ModuleNotFoundError(\"No module named 'evaluate'\")), skipping metric logging.\n",
      "2024/05/30 15:56:49 WARNING mlflow.models.evaluation.default_evaluator: Did not log builtin metric 'toxicity' because it returned None.\n",
      "c:\\Code\\GenAIGroupProject\\.venv\\Lib\\site-packages\\tqdm\\auto.py:21: TqdmWarning: IProgress not found. Please update jupyter and ipywidgets. See https://ipywidgets.readthedocs.io/en/stable/user_install.html\n",
      "  from .autonotebook import tqdm as notebook_tqdm\n",
      "100%|██████████| 1/1 [00:01<00:00,  1.47s/it]\n",
      "100%|██████████| 1/1 [00:01<00:00,  1.32s/it]\n",
      "100%|██████████| 1/1 [00:01<00:00,  1.17s/it]\n",
      "100%|██████████| 1/1 [00:01<00:00,  1.43s/it]\n",
      "2024/05/30 15:56:54 WARNING mlflow.metrics.metric_definitions: Failed to load 'toxicity' metric (error: ModuleNotFoundError(\"No module named 'evaluate'\")), skipping metric logging.\n",
      "2024/05/30 15:56:54 WARNING mlflow.models.evaluation.default_evaluator: Did not log builtin metric 'toxicity' because it returned None.\n",
      "100%|██████████| 2/2 [00:01<00:00,  1.01it/s]\n",
      "100%|██████████| 2/2 [00:01<00:00,  1.22it/s]\n",
      "100%|██████████| 2/2 [00:01<00:00,  1.17it/s]\n",
      "100%|██████████| 2/2 [00:04<00:00,  2.03s/it]\n"
     ]
    }
   ],
   "source": [
    "results = evaluate_llm(example_model, eval_set, \"openai:/gpt-3.5-turbo\", \"mlflow_llm_development\")"
   ]
  },
  {
   "cell_type": "markdown",
   "metadata": {},
   "source": [
    "And we can then take a look at the results:"
   ]
  },
  {
   "cell_type": "code",
   "execution_count": 7,
   "metadata": {},
   "outputs": [
    {
     "name": "stderr",
     "output_type": "stream",
     "text": [
      "Downloading artifacts: 100%|██████████| 1/1 [00:00<00:00, 390.75it/s]\n"
     ]
    },
    {
     "data": {
      "text/html": [
       "<div>\n",
       "<style scoped>\n",
       "    .dataframe tbody tr th:only-of-type {\n",
       "        vertical-align: middle;\n",
       "    }\n",
       "\n",
       "    .dataframe tbody tr th {\n",
       "        vertical-align: top;\n",
       "    }\n",
       "\n",
       "    .dataframe thead th {\n",
       "        text-align: right;\n",
       "    }\n",
       "</style>\n",
       "<table border=\"1\" class=\"dataframe\">\n",
       "  <thead>\n",
       "    <tr style=\"text-align: right;\">\n",
       "      <th></th>\n",
       "      <th>inputs</th>\n",
       "      <th>context</th>\n",
       "      <th>targets</th>\n",
       "      <th>outputs</th>\n",
       "      <th>token_count</th>\n",
       "      <th>flesch_kincaid_grade_level/v1/score</th>\n",
       "      <th>ari_grade_level/v1/score</th>\n",
       "      <th>faithfulness/v1/score</th>\n",
       "      <th>faithfulness/v1/justification</th>\n",
       "      <th>answer_similarity/v1/score</th>\n",
       "      <th>answer_similarity/v1/justification</th>\n",
       "      <th>answer_correctness/v1/score</th>\n",
       "      <th>answer_correctness/v1/justification</th>\n",
       "      <th>answer_relevance/v1/score</th>\n",
       "      <th>answer_relevance/v1/justification</th>\n",
       "    </tr>\n",
       "  </thead>\n",
       "  <tbody>\n",
       "    <tr>\n",
       "      <th>0</th>\n",
       "      <td>How much money does client 1 have in shares?</td>\n",
       "      <td>Client 1 has 20 shares. 70% of their shares ar...</td>\n",
       "      <td>Client 1 has £14,000 worth of NVDA shares (70%...</td>\n",
       "      <td>Client 1 has £14,000 worth of NVDA shares (70%...</td>\n",
       "      <td>62</td>\n",
       "      <td>4.2</td>\n",
       "      <td>7.0</td>\n",
       "      <td>5</td>\n",
       "      <td>The output correctly calculates the total valu...</td>\n",
       "      <td>3</td>\n",
       "      <td>The output has moderate semantic similarity to...</td>\n",
       "      <td>5</td>\n",
       "      <td>The output is correct and demonstrates a high ...</td>\n",
       "      <td>5</td>\n",
       "      <td>The output directly mirrors the input, providi...</td>\n",
       "    </tr>\n",
       "    <tr>\n",
       "      <th>1</th>\n",
       "      <td>How much money does client 2 have in shares?</td>\n",
       "      <td>Client 2 has 10 shares. 30% of their shares ar...</td>\n",
       "      <td>Client 2 has £3,000 worth of NVDA shares (30% ...</td>\n",
       "      <td>Client 2 has £7,300 in shares. This is calcula...</td>\n",
       "      <td>76</td>\n",
       "      <td>7.0</td>\n",
       "      <td>10.2</td>\n",
       "      <td>5</td>\n",
       "      <td>The output correctly calculates the amount of ...</td>\n",
       "      <td>4</td>\n",
       "      <td>The output aligns with the provided targets in...</td>\n",
       "      <td>5</td>\n",
       "      <td>The output provided by the model is correct an...</td>\n",
       "      <td>5</td>\n",
       "      <td>The output directly addresses all aspects of t...</td>\n",
       "    </tr>\n",
       "  </tbody>\n",
       "</table>\n",
       "</div>"
      ],
      "text/plain": [
       "                                         inputs  \\\n",
       "0  How much money does client 1 have in shares?   \n",
       "1  How much money does client 2 have in shares?   \n",
       "\n",
       "                                             context  \\\n",
       "0  Client 1 has 20 shares. 70% of their shares ar...   \n",
       "1  Client 2 has 10 shares. 30% of their shares ar...   \n",
       "\n",
       "                                             targets  \\\n",
       "0  Client 1 has £14,000 worth of NVDA shares (70%...   \n",
       "1  Client 2 has £3,000 worth of NVDA shares (30% ...   \n",
       "\n",
       "                                             outputs  token_count  \\\n",
       "0  Client 1 has £14,000 worth of NVDA shares (70%...           62   \n",
       "1  Client 2 has £7,300 in shares. This is calcula...           76   \n",
       "\n",
       "   flesch_kincaid_grade_level/v1/score  ari_grade_level/v1/score  \\\n",
       "0                                  4.2                       7.0   \n",
       "1                                  7.0                      10.2   \n",
       "\n",
       "   faithfulness/v1/score                      faithfulness/v1/justification  \\\n",
       "0                      5  The output correctly calculates the total valu...   \n",
       "1                      5  The output correctly calculates the amount of ...   \n",
       "\n",
       "   answer_similarity/v1/score  \\\n",
       "0                           3   \n",
       "1                           4   \n",
       "\n",
       "                  answer_similarity/v1/justification  \\\n",
       "0  The output has moderate semantic similarity to...   \n",
       "1  The output aligns with the provided targets in...   \n",
       "\n",
       "   answer_correctness/v1/score  \\\n",
       "0                            5   \n",
       "1                            5   \n",
       "\n",
       "                 answer_correctness/v1/justification  \\\n",
       "0  The output is correct and demonstrates a high ...   \n",
       "1  The output provided by the model is correct an...   \n",
       "\n",
       "   answer_relevance/v1/score  \\\n",
       "0                          5   \n",
       "1                          5   \n",
       "\n",
       "                   answer_relevance/v1/justification  \n",
       "0  The output directly mirrors the input, providi...  \n",
       "1  The output directly addresses all aspects of t...  "
      ]
     },
     "metadata": {},
     "output_type": "display_data"
    }
   ],
   "source": [
    "output_df = pd.DataFrame(results.tables['eval_results_table'])\n",
    "display(output_df)"
   ]
  },
  {
   "cell_type": "code",
   "execution_count": 8,
   "metadata": {},
   "outputs": [
    {
     "data": {
      "text/plain": [
       "'Client 2 has £7,300 in shares. This is calculated by taking 30% of their shares in NVDA (3 shares x £1000 = £3000) and 70% of their shares in AAPL (7 shares x £190 = £1330), then adding these two amounts together (£3000 + £1330 = £4330).'"
      ]
     },
     "execution_count": 8,
     "metadata": {},
     "output_type": "execute_result"
    }
   ],
   "source": [
    "output_df['outputs'][1]"
   ]
  },
  {
   "cell_type": "code",
   "execution_count": 9,
   "metadata": {},
   "outputs": [
    {
     "name": "stdout",
     "output_type": "stream",
     "text": [
      "------------------------------------------------------------------------------------------------------------------------\n",
      "Run ID: 6e92e3ddea28432ba4ff42c729ae4aff\n",
      "Parameters: {'model': 'first=PromptTemplate(input_variables=[\\'context\\', \\'inputs\\'], template=\"You\\'re a investment manager. Using the context provided, reply to the question below to the best of your ability:\\\\nQuestion:\\\\n{inputs}\\\\nContext:\\\\n{context}\") middle=[ChatOpenAI(client=<openai.resources.chat.completions.Completions object at 0x000001DFB005B3D0>, async_client=<openai.resources.chat.completions.AsyncCompletions object at 0x000001DFB00CB950>, model_name=\\'gpt-3.5-turbo-0125\\', temperature=0.0, openai_api_key=SecretStr(\\'**********\\'), openai_proxy=\\'\\')] last=RunnableLambda(_get_content)'}\n",
      "Metrics: {'answer_correctness/v1/mean': 5.0, 'answer_correctness/v1/p90': 5.0, 'answer_correctness/v1/variance': 0.0, 'answer_relevance/v1/mean': 5.0, 'answer_relevance/v1/p90': 5.0, 'answer_relevance/v1/variance': 0.0, 'answer_similarity/v1/mean': 3.5, 'answer_similarity/v1/p90': 3.9, 'answer_similarity/v1/variance': 0.25, 'ari_grade_level/v1/mean': 8.6, 'ari_grade_level/v1/p90': 9.879999999999999, 'ari_grade_level/v1/variance': 2.5599999999999987, 'exact_match/v1': 0.0, 'faithfulness/v1/mean': 5.0, 'faithfulness/v1/p90': 5.0, 'faithfulness/v1/variance': 0.0, 'flesch_kincaid_grade_level/v1/mean': 5.6, 'flesch_kincaid_grade_level/v1/p90': 6.72, 'flesch_kincaid_grade_level/v1/variance': 1.9599999999999997}\n",
      "Tags: {'mlflow.datasets': '[{\"name\":\"f4b6912a1feeee0b23e37f229253ecab\",\"hash\":\"f4b6912a1feeee0b23e37f229253ecab\",\"model\":\"3e1a59212aa24de6bbacb81cee62a72c\"}]', 'mlflow.log-model.history': '[{\"run_id\": \"6e92e3ddea28432ba4ff42c729ae4aff\", \"artifact_path\": \"model\", \"utc_time_created\": \"2024-05-30 14:56:30.558411\", \"flavors\": {\"python_function\": {\"predict_stream_fn\": \"predict_stream\", \"streamable\": true, \"model_load\": \"runnable_load\", \"model_type\": \"RunnableSequence\", \"model_data\": \"model\", \"loader_module\": \"mlflow.langchain\", \"python_version\": \"3.11.0\", \"env\": {\"conda\": \"conda.yaml\", \"virtualenv\": \"python_env.yaml\"}}, \"langchain\": {\"langchain_version\": \"0.1.20\", \"code\": null, \"streamable\": true, \"model_type\": \"RunnableSequence\", \"model_load\": \"runnable_load\", \"model_data\": \"model\"}}, \"model_uuid\": \"3e1a59212aa24de6bbacb81cee62a72c\", \"mlflow_version\": \"2.13.0\", \"model_size_bytes\": 1430}]', 'mlflow.loggedArtifacts': '[{\"path\": \"eval_results_table.json\", \"type\": \"table\"}]', 'mlflow.runName': 'intelligent-bug-60', 'mlflow.source.name': 'c:\\\\Code\\\\GenAIGroupProject\\\\.venv\\\\Lib\\\\site-packages\\\\ipykernel_launcher.py', 'mlflow.source.type': 'LOCAL', 'mlflow.user': 'MichaelBerney'}\n",
      "Artifacts: [<FileInfo: file_size=3828, is_dir=False, path='eval_results_table.json'>, <FileInfo: file_size=None, is_dir=True, path='model'>]\n",
      "------------------------------------------------------------------------------------------------------------------------\n",
      "Run ID: edb5428cd353451b9b2acf409368c662\n",
      "Parameters: {'model': 'first=PromptTemplate(input_variables=[\\'context\\', \\'inputs\\'], template=\"You\\'re a investment manager. Using the context provided, reply to the question below to the best of your ability:\\\\nQuestion:\\\\n{inputs}\\\\nContext:\\\\n{context}\") middle=[ChatOpenAI(client=<openai.resources.chat.completions.Completions object at 0x00000284DD68B3D0>, async_client=<openai.resources.chat.completions.AsyncCompletions object at 0x00000284DD68B990>, model_name=\\'gpt-3.5-turbo-0125\\', temperature=0.0, openai_api_key=SecretStr(\\'**********\\'), openai_proxy=\\'\\')] last=RunnableLambda(_get_content)'}\n",
      "Metrics: {'answer_correctness/v1/mean': 4.0, 'answer_correctness/v1/p90': 4.8, 'answer_correctness/v1/variance': 1.0, 'answer_relevance/v1/mean': 5.0, 'answer_relevance/v1/p90': 5.0, 'answer_relevance/v1/variance': 0.0, 'answer_similarity/v1/mean': 3.5, 'answer_similarity/v1/p90': 3.9, 'answer_similarity/v1/variance': 0.25, 'ari_grade_level/v1/mean': 9.149999999999999, 'ari_grade_level/v1/p90': 9.99, 'ari_grade_level/v1/variance': 1.1024999999999996, 'exact_match/v1': 0.0, 'faithfulness/v1/mean': 5.0, 'faithfulness/v1/p90': 5.0, 'faithfulness/v1/variance': 0.0, 'flesch_kincaid_grade_level/v1/mean': 6.0, 'flesch_kincaid_grade_level/v1/p90': 6.8, 'flesch_kincaid_grade_level/v1/variance': 1.0}\n",
      "Tags: {'mlflow.datasets': '[{\"name\":\"f4b6912a1feeee0b23e37f229253ecab\",\"hash\":\"f4b6912a1feeee0b23e37f229253ecab\",\"model\":\"ef61f106701b45d6b7523759759f05a9\"}]', 'mlflow.log-model.history': '[{\"run_id\": \"edb5428cd353451b9b2acf409368c662\", \"artifact_path\": \"model\", \"utc_time_created\": \"2024-05-30 14:53:38.998524\", \"flavors\": {\"python_function\": {\"predict_stream_fn\": \"predict_stream\", \"streamable\": true, \"model_load\": \"runnable_load\", \"model_type\": \"RunnableSequence\", \"model_data\": \"model\", \"loader_module\": \"mlflow.langchain\", \"python_version\": \"3.11.0\", \"env\": {\"conda\": \"conda.yaml\", \"virtualenv\": \"python_env.yaml\"}}, \"langchain\": {\"langchain_version\": \"0.1.20\", \"code\": null, \"streamable\": true, \"model_type\": \"RunnableSequence\", \"model_load\": \"runnable_load\", \"model_data\": \"model\"}}, \"model_uuid\": \"ef61f106701b45d6b7523759759f05a9\", \"mlflow_version\": \"2.13.0\", \"model_size_bytes\": 1430}]', 'mlflow.loggedArtifacts': '[{\"path\": \"eval_results_table.json\", \"type\": \"table\"}]', 'mlflow.runName': 'brawny-asp-514', 'mlflow.source.name': 'c:\\\\Code\\\\GenAIGroupProject\\\\.venv\\\\Lib\\\\site-packages\\\\ipykernel_launcher.py', 'mlflow.source.type': 'LOCAL', 'mlflow.user': 'MichaelBerney'}\n",
      "Artifacts: [<FileInfo: file_size=3617, is_dir=False, path='eval_results_table.json'>, <FileInfo: file_size=None, is_dir=True, path='model'>]\n"
     ]
    }
   ],
   "source": [
    "print(get_info_on_runs('mlflow_llm_development'))"
   ]
  },
  {
   "cell_type": "code",
   "execution_count": 11,
   "metadata": {},
   "outputs": [],
   "source": [
    "delete_all_runs('mlflow_llm_development')"
   ]
  },
  {
   "cell_type": "markdown",
   "metadata": {},
   "source": [
    "## Agent Model Evaluation\n",
    "\n",
    "We can instantiate a simple agent to answer our queries:"
   ]
  },
  {
   "cell_type": "code",
   "execution_count": 12,
   "metadata": {},
   "outputs": [],
   "source": [
    "example_agent = create_agent()"
   ]
  },
  {
   "cell_type": "markdown",
   "metadata": {},
   "source": [
    "Let's then evaluate that agent against a set of evaluation questions:"
   ]
  },
  {
   "cell_type": "code",
   "execution_count": 13,
   "metadata": {},
   "outputs": [
    {
     "data": {
      "text/html": [
       "<div>\n",
       "<style scoped>\n",
       "    .dataframe tbody tr th:only-of-type {\n",
       "        vertical-align: middle;\n",
       "    }\n",
       "\n",
       "    .dataframe tbody tr th {\n",
       "        vertical-align: top;\n",
       "    }\n",
       "\n",
       "    .dataframe thead th {\n",
       "        text-align: right;\n",
       "    }\n",
       "</style>\n",
       "<table border=\"1\" class=\"dataframe\">\n",
       "  <thead>\n",
       "    <tr style=\"text-align: right;\">\n",
       "      <th></th>\n",
       "      <th>question</th>\n",
       "    </tr>\n",
       "  </thead>\n",
       "  <tbody>\n",
       "    <tr>\n",
       "      <th>0</th>\n",
       "      <td>Return the values for client_id 1 in the sql d...</td>\n",
       "    </tr>\n",
       "    <tr>\n",
       "      <th>1</th>\n",
       "      <td>Tell me the latest AAPL stock price.</td>\n",
       "    </tr>\n",
       "    <tr>\n",
       "      <th>2</th>\n",
       "      <td>Return me the stock allocation for client 5.</td>\n",
       "    </tr>\n",
       "    <tr>\n",
       "      <th>3</th>\n",
       "      <td>Return me the stock allocation for client 8.</td>\n",
       "    </tr>\n",
       "    <tr>\n",
       "      <th>4</th>\n",
       "      <td>Return me the stock allocation for every client.</td>\n",
       "    </tr>\n",
       "    <tr>\n",
       "      <th>5</th>\n",
       "      <td>Give me all the stock allocations from all cli...</td>\n",
       "    </tr>\n",
       "    <tr>\n",
       "      <th>6</th>\n",
       "      <td>Give me a sentence from the apple 10-k report.</td>\n",
       "    </tr>\n",
       "    <tr>\n",
       "      <th>7</th>\n",
       "      <td>What is the net sales of iPhones in 2021.</td>\n",
       "    </tr>\n",
       "    <tr>\n",
       "      <th>8</th>\n",
       "      <td>Add a new client to the database with random s...</td>\n",
       "    </tr>\n",
       "    <tr>\n",
       "      <th>9</th>\n",
       "      <td>Give me all the stock allocations from all cli...</td>\n",
       "    </tr>\n",
       "    <tr>\n",
       "      <th>10</th>\n",
       "      <td>Give me all the stock allocations for all clie...</td>\n",
       "    </tr>\n",
       "    <tr>\n",
       "      <th>11</th>\n",
       "      <td>Reallocate the stocks for client 3 using a bal...</td>\n",
       "    </tr>\n",
       "  </tbody>\n",
       "</table>\n",
       "</div>"
      ],
      "text/plain": [
       "                                             question\n",
       "0   Return the values for client_id 1 in the sql d...\n",
       "1                Tell me the latest AAPL stock price.\n",
       "2        Return me the stock allocation for client 5.\n",
       "3        Return me the stock allocation for client 8.\n",
       "4    Return me the stock allocation for every client.\n",
       "5   Give me all the stock allocations from all cli...\n",
       "6      Give me a sentence from the apple 10-k report.\n",
       "7           What is the net sales of iPhones in 2021.\n",
       "8   Add a new client to the database with random s...\n",
       "9   Give me all the stock allocations from all cli...\n",
       "10  Give me all the stock allocations for all clie...\n",
       "11  Reallocate the stocks for client 3 using a bal..."
      ]
     },
     "metadata": {},
     "output_type": "display_data"
    },
    {
     "name": "stderr",
     "output_type": "stream",
     "text": [
      "Evaluating agent on questions...: 100%|██████████| 12/12 [00:58<00:00,  4.86s/it]\n",
      "2024/05/30 15:58:54 INFO mlflow.tracking.fluent: Experiment with name 'mlflow_agent_development' does not exist. Creating a new experiment.\n"
     ]
    }
   ],
   "source": [
    "eval_set = pd.read_csv('\\\\'.join(os.getcwd().split('\\\\')[:-1]) +'/data/' + 'Evaluation Dataset - Agent.csv')\n",
    "display(eval_set)\n",
    "\n",
    "evaluate_agent(example_agent, eval_set['question'], 'mlflow_agent_development')"
   ]
  },
  {
   "cell_type": "markdown",
   "metadata": {},
   "source": [
    "We can then investigate the performance of the model on ML Flow:"
   ]
  },
  {
   "cell_type": "code",
   "execution_count": 14,
   "metadata": {},
   "outputs": [
    {
     "name": "stdout",
     "output_type": "stream",
     "text": [
      "------------------------------------------------------------------------------------------------------------------------\n",
      "Run ID: f1a81fa31b9b4315a82d9032a756129b\n",
      "Metrics: {'ari_score_mean': 6.26, 'ari_score_variance': 4.77, 'response_time_mean': 4.41, 'response_time_variance': 0.3, 'success_rate_mean': 0.0, 'success_rate_variance': 0.0}\n",
      "Tags: {'mlflow.runName': 'respected-yak-807', 'mlflow.source.name': 'c:\\\\Code\\\\GenAIGroupProject\\\\.venv\\\\Lib\\\\site-packages\\\\ipykernel_launcher.py', 'mlflow.source.type': 'LOCAL', 'mlflow.user': 'MichaelBerney'}\n"
     ]
    }
   ],
   "source": [
    "print(get_info_on_runs('mlflow_agent_development'))"
   ]
  },
  {
   "cell_type": "code",
   "execution_count": 15,
   "metadata": {},
   "outputs": [],
   "source": [
    "delete_all_runs('mlflow_agent_development')"
   ]
  },
  {
   "cell_type": "markdown",
   "metadata": {},
   "source": [
    "## Using Real Agent\n",
    "\n",
    "Here, our real agent class is used and tracked using MLFlow"
   ]
  },
  {
   "cell_type": "code",
   "execution_count": null,
   "metadata": {},
   "outputs": [],
   "source": []
  }
 ],
 "metadata": {
  "kernelspec": {
   "display_name": ".venv",
   "language": "python",
   "name": "python3"
  },
  "language_info": {
   "codemirror_mode": {
    "name": "ipython",
    "version": 3
   },
   "file_extension": ".py",
   "mimetype": "text/x-python",
   "name": "python",
   "nbconvert_exporter": "python",
   "pygments_lexer": "ipython3",
   "version": "3.11.0"
  }
 },
 "nbformat": 4,
 "nbformat_minor": 2
}
